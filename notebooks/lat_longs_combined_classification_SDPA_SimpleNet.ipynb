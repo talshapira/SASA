{
 "cells": [
  {
   "cell_type": "markdown",
   "metadata": {},
   "source": [
    "# Import python packages"
   ]
  },
  {
   "cell_type": "code",
   "execution_count": 1,
   "metadata": {
    "collapsed": true
   },
   "outputs": [],
   "source": [
    "import os\n",
    "SRC_PATH = '../src/'\n",
    "os.chdir(SRC_PATH)"
   ]
  },
  {
   "cell_type": "code",
   "execution_count": 2,
   "metadata": {
    "ExecuteTime": {
     "end_time": "2020-03-23T10:51:10.795809Z",
     "start_time": "2020-03-23T10:51:07.294930Z"
    },
    "collapsed": true
   },
   "outputs": [],
   "source": [
    "import numpy as np\n",
    "import pandas as pd\n",
    "import matplotlib.pyplot as plt\n",
    "%matplotlib inline\n",
    "\n",
    "SEED = 7\n",
    "np.random.seed(SEED)"
   ]
  },
  {
   "cell_type": "markdown",
   "metadata": {},
   "source": [
    "# Define parameters and load dataset"
   ]
  },
  {
   "cell_type": "code",
   "execution_count": 3,
   "metadata": {
    "collapsed": true
   },
   "outputs": [],
   "source": [
    "ATTENTION_NAME = 'SDPA' # choose between 'SDPA' - the regular, 'SASA', and 'SDPA_QS_KS'\n",
    "LABELS = 'combined' # choose between 'vf and 'combined'\n",
    "DATA_TYPE = 'lats_longs' # 'countries' # choose between 'lats_longs' and 'countries'"
   ]
  },
  {
   "cell_type": "code",
   "execution_count": 4,
   "metadata": {
    "ExecuteTime": {
     "end_time": "2020-03-23T10:51:32.415657Z",
     "start_time": "2020-03-23T10:51:10.798424Z"
    }
   },
   "outputs": [
    {
     "name": "stdout",
     "output_type": "stream",
     "text": [
      "2802801 702383\n"
     ]
    }
   ],
   "source": [
    "MODEL_NAME = DATA_TYPE + '_' + LABELS + '_classification_' + ATTENTION_NAME + '_SimpleNet'\n",
    "\n",
    "ipsource_dict = {1: 'M', 2: 'R', 3: 'A', 4: 'X', 0: \"pad\"}\n",
    "SOURCES_NUM = len(ipsource_dict) + 1\n",
    "label_dict = {0: 'G', 1: 'R',2: 'Unknown'}\n",
    "class_names = [\"GREEN\", \"RED\"]\n",
    "\n",
    "DATA_PATH = '../data/'\n",
    "MODELS_PATH = '../models/'\n",
    "RESULTS_PATH = '../results/'\n",
    "\n",
    "path_prefix = RESULTS_PATH + MODEL_NAME\n",
    "\n",
    "training = pd.read_pickle(\"../data/dataset_b_noisy_7_agents_training.pkl\") \n",
    "test_comb = pd.read_pickle(\"../data/dataset_b_noisy_7_agents_test.pkl\") \n",
    "print(len(training), len(test_comb))"
   ]
  },
  {
   "cell_type": "code",
   "execution_count": 5,
   "metadata": {},
   "outputs": [
    {
     "data": {
      "text/html": [
       "<div>\n",
       "<style scoped>\n",
       "    .dataframe tbody tr th:only-of-type {\n",
       "        vertical-align: middle;\n",
       "    }\n",
       "\n",
       "    .dataframe tbody tr th {\n",
       "        vertical-align: top;\n",
       "    }\n",
       "\n",
       "    .dataframe thead th {\n",
       "        text-align: right;\n",
       "    }\n",
       "</style>\n",
       "<table border=\"1\" class=\"dataframe\">\n",
       "  <thead>\n",
       "    <tr style=\"text-align: right;\">\n",
       "      <th></th>\n",
       "      <th>srcAS</th>\n",
       "      <th>destAS</th>\n",
       "      <th>srcCC</th>\n",
       "      <th>destCC</th>\n",
       "      <th>num_hops</th>\n",
       "      <th>lat</th>\n",
       "      <th>long</th>\n",
       "      <th>IPsource</th>\n",
       "      <th>geoCC</th>\n",
       "      <th>ASN</th>\n",
       "      <th>vf</th>\n",
       "      <th>combined</th>\n",
       "      <th>geo</th>\n",
       "      <th>owner</th>\n",
       "    </tr>\n",
       "    <tr>\n",
       "      <th>trid</th>\n",
       "      <th></th>\n",
       "      <th></th>\n",
       "      <th></th>\n",
       "      <th></th>\n",
       "      <th></th>\n",
       "      <th></th>\n",
       "      <th></th>\n",
       "      <th></th>\n",
       "      <th></th>\n",
       "      <th></th>\n",
       "      <th></th>\n",
       "      <th></th>\n",
       "      <th></th>\n",
       "      <th></th>\n",
       "    </tr>\n",
       "  </thead>\n",
       "  <tbody>\n",
       "    <tr>\n",
       "      <th>1328731</th>\n",
       "      <td>14061</td>\n",
       "      <td>42999</td>\n",
       "      <td>US</td>\n",
       "      <td>TR</td>\n",
       "      <td>10</td>\n",
       "      <td>[50.115520000000004, 50.115520000000004, 50.11...</td>\n",
       "      <td>[8.68417, 8.68417, 8.68417, 8.67185, 9.491, 8....</td>\n",
       "      <td>[1, 2, 1, 1, 3, 1, 3, 3, 2, 3]</td>\n",
       "      <td>[DE, DE, DE, DE, DE, DE, TR, TR, TR, TR]</td>\n",
       "      <td>[14061, 14061, 2914, 2914, 2914, 9121, 9121, 9...</td>\n",
       "      <td>0</td>\n",
       "      <td>0</td>\n",
       "      <td>0</td>\n",
       "      <td>0</td>\n",
       "    </tr>\n",
       "    <tr>\n",
       "      <th>5183622</th>\n",
       "      <td>138062</td>\n",
       "      <td>3605</td>\n",
       "      <td>ID</td>\n",
       "      <td>GU</td>\n",
       "      <td>1</td>\n",
       "      <td>[22.285521]</td>\n",
       "      <td>[114.1577]</td>\n",
       "      <td>[1]</td>\n",
       "      <td>[HK]</td>\n",
       "      <td>[24482]</td>\n",
       "      <td>0</td>\n",
       "      <td>0</td>\n",
       "      <td>0</td>\n",
       "      <td>0</td>\n",
       "    </tr>\n",
       "    <tr>\n",
       "      <th>3258755</th>\n",
       "      <td>14061</td>\n",
       "      <td>24173</td>\n",
       "      <td>US</td>\n",
       "      <td>VN</td>\n",
       "      <td>10</td>\n",
       "      <td>[40.714271999999994, 40.714271999999994, 40.71...</td>\n",
       "      <td>[-74.005966, -74.005966, -74.005997, -122.3320...</td>\n",
       "      <td>[1, 1, 1, 1, 1, 1, 1, 3, 3, 3]</td>\n",
       "      <td>[US, US, US, US, JP, HK, HK, HK, VN, VN]</td>\n",
       "      <td>[14061, 14061, 2914, 2914, 2914, 2914, 2914, 2...</td>\n",
       "      <td>0</td>\n",
       "      <td>0</td>\n",
       "      <td>0</td>\n",
       "      <td>0</td>\n",
       "    </tr>\n",
       "    <tr>\n",
       "      <th>2660757</th>\n",
       "      <td>16276</td>\n",
       "      <td>7171</td>\n",
       "      <td>FR</td>\n",
       "      <td>US</td>\n",
       "      <td>13</td>\n",
       "      <td>[0.0, 0.0, 0.0, 0.0, 1.28967, 43.296669, 48.86...</td>\n",
       "      <td>[0.0, 0.0, 0.0, 0.0, 103.850098, 5.37639, 2.34...</td>\n",
       "      <td>[4, 4, 4, 4, 1, 1, 1, 1, 1, 1, 1, 1, 1]</td>\n",
       "      <td>[nan, nan, nan, nan, SG, FR, FR, FR, FR, US, U...</td>\n",
       "      <td>[0, 0, 0, 0, 16276, 16276, 16276, 6461, 6461, ...</td>\n",
       "      <td>0</td>\n",
       "      <td>0</td>\n",
       "      <td>0</td>\n",
       "      <td>0</td>\n",
       "    </tr>\n",
       "    <tr>\n",
       "      <th>1730541</th>\n",
       "      <td>20473</td>\n",
       "      <td>12479</td>\n",
       "      <td>US</td>\n",
       "      <td>ES</td>\n",
       "      <td>7</td>\n",
       "      <td>[48.860001000000004, 48.860001000000004, 48.86...</td>\n",
       "      <td>[2.34444, 2.34444, 2.34444, 5.381069999999999,...</td>\n",
       "      <td>[1, 1, 1, 2, 1, 1, 1]</td>\n",
       "      <td>[FR, FR, FR, FR, ES, ES, ES]</td>\n",
       "      <td>[3257, 3257, 3257, 5511, 5511, 5511, 5511]</td>\n",
       "      <td>0</td>\n",
       "      <td>0</td>\n",
       "      <td>0</td>\n",
       "      <td>0</td>\n",
       "    </tr>\n",
       "  </tbody>\n",
       "</table>\n",
       "</div>"
      ],
      "text/plain": [
       "          srcAS  destAS srcCC destCC  num_hops  \\\n",
       "trid                                             \n",
       "1328731   14061   42999    US     TR        10   \n",
       "5183622  138062    3605    ID     GU         1   \n",
       "3258755   14061   24173    US     VN        10   \n",
       "2660757   16276    7171    FR     US        13   \n",
       "1730541   20473   12479    US     ES         7   \n",
       "\n",
       "                                                       lat  \\\n",
       "trid                                                         \n",
       "1328731  [50.115520000000004, 50.115520000000004, 50.11...   \n",
       "5183622                                        [22.285521]   \n",
       "3258755  [40.714271999999994, 40.714271999999994, 40.71...   \n",
       "2660757  [0.0, 0.0, 0.0, 0.0, 1.28967, 43.296669, 48.86...   \n",
       "1730541  [48.860001000000004, 48.860001000000004, 48.86...   \n",
       "\n",
       "                                                      long  \\\n",
       "trid                                                         \n",
       "1328731  [8.68417, 8.68417, 8.68417, 8.67185, 9.491, 8....   \n",
       "5183622                                         [114.1577]   \n",
       "3258755  [-74.005966, -74.005966, -74.005997, -122.3320...   \n",
       "2660757  [0.0, 0.0, 0.0, 0.0, 103.850098, 5.37639, 2.34...   \n",
       "1730541  [2.34444, 2.34444, 2.34444, 5.381069999999999,...   \n",
       "\n",
       "                                        IPsource  \\\n",
       "trid                                               \n",
       "1328731           [1, 2, 1, 1, 3, 1, 3, 3, 2, 3]   \n",
       "5183622                                      [1]   \n",
       "3258755           [1, 1, 1, 1, 1, 1, 1, 3, 3, 3]   \n",
       "2660757  [4, 4, 4, 4, 1, 1, 1, 1, 1, 1, 1, 1, 1]   \n",
       "1730541                    [1, 1, 1, 2, 1, 1, 1]   \n",
       "\n",
       "                                                     geoCC  \\\n",
       "trid                                                         \n",
       "1328731           [DE, DE, DE, DE, DE, DE, TR, TR, TR, TR]   \n",
       "5183622                                               [HK]   \n",
       "3258755           [US, US, US, US, JP, HK, HK, HK, VN, VN]   \n",
       "2660757  [nan, nan, nan, nan, SG, FR, FR, FR, FR, US, U...   \n",
       "1730541                       [FR, FR, FR, FR, ES, ES, ES]   \n",
       "\n",
       "                                                       ASN  vf  combined  geo  \\\n",
       "trid                                                                            \n",
       "1328731  [14061, 14061, 2914, 2914, 2914, 9121, 9121, 9...   0         0    0   \n",
       "5183622                                            [24482]   0         0    0   \n",
       "3258755  [14061, 14061, 2914, 2914, 2914, 2914, 2914, 2...   0         0    0   \n",
       "2660757  [0, 0, 0, 0, 16276, 16276, 16276, 6461, 6461, ...   0         0    0   \n",
       "1730541         [3257, 3257, 3257, 5511, 5511, 5511, 5511]   0         0    0   \n",
       "\n",
       "         owner  \n",
       "trid            \n",
       "1328731      0  \n",
       "5183622      0  \n",
       "3258755      0  \n",
       "2660757      0  \n",
       "1730541      0  "
      ]
     },
     "execution_count": 5,
     "metadata": {},
     "output_type": "execute_result"
    }
   ],
   "source": [
    "training.head()"
   ]
  },
  {
   "cell_type": "code",
   "execution_count": 6,
   "metadata": {},
   "outputs": [
    {
     "name": "stdout",
     "output_type": "stream",
     "text": [
      "0    2666724\n",
      "1     136077\n",
      "Name: combined, dtype: int64\n",
      "0    0.95145\n",
      "1    0.04855\n",
      "Name: combined, dtype: float64\n"
     ]
    }
   ],
   "source": [
    "print(training[LABELS].value_counts())\n",
    "print(training[LABELS].value_counts(normalize=True))"
   ]
  },
  {
   "cell_type": "code",
   "execution_count": 7,
   "metadata": {},
   "outputs": [
    {
     "name": "stdout",
     "output_type": "stream",
     "text": [
      "0    668035\n",
      "1     34348\n",
      "Name: combined, dtype: int64\n",
      "0    0.951098\n",
      "1    0.048902\n",
      "Name: combined, dtype: float64\n"
     ]
    }
   ],
   "source": [
    "print(test_comb[LABELS].value_counts())\n",
    "print(test_comb[LABELS].value_counts(normalize=True))"
   ]
  },
  {
   "cell_type": "code",
   "execution_count": 8,
   "metadata": {
    "ExecuteTime": {
     "end_time": "2020-03-23T10:51:32.858584Z",
     "start_time": "2020-03-23T10:51:32.664840Z"
    }
   },
   "outputs": [
    {
     "name": "stdout",
     "output_type": "stream",
     "text": [
      "40\n"
     ]
    }
   ],
   "source": [
    "max_len = max(len(raw) for raw in training['lat'].values)\n",
    "max_len = max(max_len, 40)\n",
    "print(max_len)"
   ]
  },
  {
   "cell_type": "markdown",
   "metadata": {},
   "source": [
    "## Process data"
   ]
  },
  {
   "cell_type": "code",
   "execution_count": 9,
   "metadata": {
    "ExecuteTime": {
     "end_time": "2020-03-23T10:52:17.060898Z",
     "start_time": "2020-03-23T10:51:32.863826Z"
    }
   },
   "outputs": [
    {
     "name": "stderr",
     "output_type": "stream",
     "text": [
      "Using TensorFlow backend.\n",
      "C:\\Users\\tals\\AppData\\Roaming\\Python\\Python36\\site-packages\\tensorflow\\python\\framework\\dtypes.py:526: FutureWarning: Passing (type, 1) or '1type' as a synonym of type is deprecated; in a future version of numpy, it will be understood as (type, (1,)) / '(1,)type'.\n",
      "  _np_qint8 = np.dtype([(\"qint8\", np.int8, 1)])\n",
      "C:\\Users\\tals\\AppData\\Roaming\\Python\\Python36\\site-packages\\tensorflow\\python\\framework\\dtypes.py:527: FutureWarning: Passing (type, 1) or '1type' as a synonym of type is deprecated; in a future version of numpy, it will be understood as (type, (1,)) / '(1,)type'.\n",
      "  _np_quint8 = np.dtype([(\"quint8\", np.uint8, 1)])\n",
      "C:\\Users\\tals\\AppData\\Roaming\\Python\\Python36\\site-packages\\tensorflow\\python\\framework\\dtypes.py:528: FutureWarning: Passing (type, 1) or '1type' as a synonym of type is deprecated; in a future version of numpy, it will be understood as (type, (1,)) / '(1,)type'.\n",
      "  _np_qint16 = np.dtype([(\"qint16\", np.int16, 1)])\n",
      "C:\\Users\\tals\\AppData\\Roaming\\Python\\Python36\\site-packages\\tensorflow\\python\\framework\\dtypes.py:529: FutureWarning: Passing (type, 1) or '1type' as a synonym of type is deprecated; in a future version of numpy, it will be understood as (type, (1,)) / '(1,)type'.\n",
      "  _np_quint16 = np.dtype([(\"quint16\", np.uint16, 1)])\n",
      "C:\\Users\\tals\\AppData\\Roaming\\Python\\Python36\\site-packages\\tensorflow\\python\\framework\\dtypes.py:530: FutureWarning: Passing (type, 1) or '1type' as a synonym of type is deprecated; in a future version of numpy, it will be understood as (type, (1,)) / '(1,)type'.\n",
      "  _np_qint32 = np.dtype([(\"qint32\", np.int32, 1)])\n",
      "C:\\Users\\tals\\AppData\\Roaming\\Python\\Python36\\site-packages\\tensorflow\\python\\framework\\dtypes.py:535: FutureWarning: Passing (type, 1) or '1type' as a synonym of type is deprecated; in a future version of numpy, it will be understood as (type, (1,)) / '(1,)type'.\n",
      "  np_resource = np.dtype([(\"resource\", np.ubyte, 1)])\n"
     ]
    },
    {
     "name": "stdout",
     "output_type": "stream",
     "text": [
      "2802801\n",
      "702383\n"
     ]
    }
   ],
   "source": [
    "from data_utils import *\n",
    "\n",
    "training = generate_dataset_and_meta(training, data_type=DATA_TYPE, max_len=max_len)\n",
    "print(len(training))\n",
    "\n",
    "test_comb = generate_dataset_and_meta(test_comb, data_type=DATA_TYPE, max_len=max_len)\n",
    "print(len(test_comb))"
   ]
  },
  {
   "cell_type": "code",
   "execution_count": 10,
   "metadata": {
    "ExecuteTime": {
     "end_time": "2020-03-23T10:52:27.438939Z",
     "start_time": "2020-03-23T10:52:27.405209Z"
    }
   },
   "outputs": [
    {
     "data": {
      "text/html": [
       "<div>\n",
       "<style scoped>\n",
       "    .dataframe tbody tr th:only-of-type {\n",
       "        vertical-align: middle;\n",
       "    }\n",
       "\n",
       "    .dataframe tbody tr th {\n",
       "        vertical-align: top;\n",
       "    }\n",
       "\n",
       "    .dataframe thead th {\n",
       "        text-align: right;\n",
       "    }\n",
       "</style>\n",
       "<table border=\"1\" class=\"dataframe\">\n",
       "  <thead>\n",
       "    <tr style=\"text-align: right;\">\n",
       "      <th></th>\n",
       "      <th>srcAS</th>\n",
       "      <th>destAS</th>\n",
       "      <th>srcCC</th>\n",
       "      <th>destCC</th>\n",
       "      <th>num_hops</th>\n",
       "      <th>geoCC</th>\n",
       "      <th>ASN</th>\n",
       "      <th>vf</th>\n",
       "      <th>combined</th>\n",
       "      <th>geo</th>\n",
       "      <th>owner</th>\n",
       "      <th>sources</th>\n",
       "      <th>lats_longs</th>\n",
       "    </tr>\n",
       "    <tr>\n",
       "      <th>trid</th>\n",
       "      <th></th>\n",
       "      <th></th>\n",
       "      <th></th>\n",
       "      <th></th>\n",
       "      <th></th>\n",
       "      <th></th>\n",
       "      <th></th>\n",
       "      <th></th>\n",
       "      <th></th>\n",
       "      <th></th>\n",
       "      <th></th>\n",
       "      <th></th>\n",
       "      <th></th>\n",
       "    </tr>\n",
       "  </thead>\n",
       "  <tbody>\n",
       "    <tr>\n",
       "      <th>1328731</th>\n",
       "      <td>14061</td>\n",
       "      <td>42999</td>\n",
       "      <td>US</td>\n",
       "      <td>TR</td>\n",
       "      <td>10</td>\n",
       "      <td>[DE, DE, DE, DE, DE, DE, TR, TR, TR, TR]</td>\n",
       "      <td>[14061, 14061, 2914, 2914, 2914, 9121, 9121, 9...</td>\n",
       "      <td>0</td>\n",
       "      <td>0</td>\n",
       "      <td>0</td>\n",
       "      <td>0</td>\n",
       "      <td>[1, 2, 1, 1, 3, 1, 3, 3, 2, 3, 0, 0, 0, 0, 0, ...</td>\n",
       "      <td>[[0.556839108467102, 0.0482453890144825], [0.5...</td>\n",
       "    </tr>\n",
       "    <tr>\n",
       "      <th>5183622</th>\n",
       "      <td>138062</td>\n",
       "      <td>3605</td>\n",
       "      <td>ID</td>\n",
       "      <td>GU</td>\n",
       "      <td>1</td>\n",
       "      <td>[HK]</td>\n",
       "      <td>[24482]</td>\n",
       "      <td>0</td>\n",
       "      <td>0</td>\n",
       "      <td>0</td>\n",
       "      <td>0</td>\n",
       "      <td>[1, 0, 0, 0, 0, 0, 0, 0, 0, 0, 0, 0, 0, 0, 0, ...</td>\n",
       "      <td>[[0.24761690199375153, 0.6342094540596008], [0...</td>\n",
       "    </tr>\n",
       "    <tr>\n",
       "      <th>3258755</th>\n",
       "      <td>14061</td>\n",
       "      <td>24173</td>\n",
       "      <td>US</td>\n",
       "      <td>VN</td>\n",
       "      <td>10</td>\n",
       "      <td>[US, US, US, US, JP, HK, HK, HK, VN, VN]</td>\n",
       "      <td>[14061, 14061, 2914, 2914, 2914, 2914, 2914, 2...</td>\n",
       "      <td>0</td>\n",
       "      <td>0</td>\n",
       "      <td>0</td>\n",
       "      <td>0</td>\n",
       "      <td>[1, 1, 1, 1, 1, 1, 1, 3, 3, 3, 0, 0, 0, 0, 0, ...</td>\n",
       "      <td>[[0.45238080620765686, -0.4111442565917969], [...</td>\n",
       "    </tr>\n",
       "    <tr>\n",
       "      <th>2660757</th>\n",
       "      <td>16276</td>\n",
       "      <td>7171</td>\n",
       "      <td>FR</td>\n",
       "      <td>US</td>\n",
       "      <td>13</td>\n",
       "      <td>[nan, nan, nan, nan, SG, FR, FR, FR, FR, US, U...</td>\n",
       "      <td>[0, 0, 0, 0, 16276, 16276, 16276, 6461, 6461, ...</td>\n",
       "      <td>0</td>\n",
       "      <td>0</td>\n",
       "      <td>0</td>\n",
       "      <td>0</td>\n",
       "      <td>[4, 4, 4, 4, 1, 1, 1, 1, 1, 1, 1, 1, 1, 0, 0, ...</td>\n",
       "      <td>[[0.0, 0.0], [0.0, 0.0], [0.0, 0.0], [0.0, 0.0...</td>\n",
       "    </tr>\n",
       "    <tr>\n",
       "      <th>1730541</th>\n",
       "      <td>20473</td>\n",
       "      <td>12479</td>\n",
       "      <td>US</td>\n",
       "      <td>ES</td>\n",
       "      <td>7</td>\n",
       "      <td>[FR, FR, FR, FR, ES, ES, ES]</td>\n",
       "      <td>[3257, 3257, 3257, 5511, 5511, 5511, 5511]</td>\n",
       "      <td>0</td>\n",
       "      <td>0</td>\n",
       "      <td>0</td>\n",
       "      <td>0</td>\n",
       "      <td>[1, 1, 1, 2, 1, 1, 1, 0, 0, 0, 0, 0, 0, 0, 0, ...</td>\n",
       "      <td>[[0.542888879776001, 0.013024666346609592], [0...</td>\n",
       "    </tr>\n",
       "  </tbody>\n",
       "</table>\n",
       "</div>"
      ],
      "text/plain": [
       "          srcAS  destAS srcCC destCC  num_hops  \\\n",
       "trid                                             \n",
       "1328731   14061   42999    US     TR        10   \n",
       "5183622  138062    3605    ID     GU         1   \n",
       "3258755   14061   24173    US     VN        10   \n",
       "2660757   16276    7171    FR     US        13   \n",
       "1730541   20473   12479    US     ES         7   \n",
       "\n",
       "                                                     geoCC  \\\n",
       "trid                                                         \n",
       "1328731           [DE, DE, DE, DE, DE, DE, TR, TR, TR, TR]   \n",
       "5183622                                               [HK]   \n",
       "3258755           [US, US, US, US, JP, HK, HK, HK, VN, VN]   \n",
       "2660757  [nan, nan, nan, nan, SG, FR, FR, FR, FR, US, U...   \n",
       "1730541                       [FR, FR, FR, FR, ES, ES, ES]   \n",
       "\n",
       "                                                       ASN  vf  combined  geo  \\\n",
       "trid                                                                            \n",
       "1328731  [14061, 14061, 2914, 2914, 2914, 9121, 9121, 9...   0         0    0   \n",
       "5183622                                            [24482]   0         0    0   \n",
       "3258755  [14061, 14061, 2914, 2914, 2914, 2914, 2914, 2...   0         0    0   \n",
       "2660757  [0, 0, 0, 0, 16276, 16276, 16276, 6461, 6461, ...   0         0    0   \n",
       "1730541         [3257, 3257, 3257, 5511, 5511, 5511, 5511]   0         0    0   \n",
       "\n",
       "         owner                                            sources  \\\n",
       "trid                                                                \n",
       "1328731      0  [1, 2, 1, 1, 3, 1, 3, 3, 2, 3, 0, 0, 0, 0, 0, ...   \n",
       "5183622      0  [1, 0, 0, 0, 0, 0, 0, 0, 0, 0, 0, 0, 0, 0, 0, ...   \n",
       "3258755      0  [1, 1, 1, 1, 1, 1, 1, 3, 3, 3, 0, 0, 0, 0, 0, ...   \n",
       "2660757      0  [4, 4, 4, 4, 1, 1, 1, 1, 1, 1, 1, 1, 1, 0, 0, ...   \n",
       "1730541      0  [1, 1, 1, 2, 1, 1, 1, 0, 0, 0, 0, 0, 0, 0, 0, ...   \n",
       "\n",
       "                                                lats_longs  \n",
       "trid                                                        \n",
       "1328731  [[0.556839108467102, 0.0482453890144825], [0.5...  \n",
       "5183622  [[0.24761690199375153, 0.6342094540596008], [0...  \n",
       "3258755  [[0.45238080620765686, -0.4111442565917969], [...  \n",
       "2660757  [[0.0, 0.0], [0.0, 0.0], [0.0, 0.0], [0.0, 0.0...  \n",
       "1730541  [[0.542888879776001, 0.013024666346609592], [0...  "
      ]
     },
     "execution_count": 10,
     "metadata": {},
     "output_type": "execute_result"
    }
   ],
   "source": [
    "training.head()"
   ]
  },
  {
   "cell_type": "markdown",
   "metadata": {},
   "source": [
    "# Map Countries & Define Embedding Parameters"
   ]
  },
  {
   "cell_type": "code",
   "execution_count": 11,
   "metadata": {
    "ExecuteTime": {
     "end_time": "2020-03-23T10:52:33.308725Z",
     "start_time": "2020-03-23T10:52:27.478565Z"
    },
    "collapsed": true
   },
   "outputs": [],
   "source": [
    "import pickle\n",
    "import os.path\n",
    "\n",
    "if DATA_TYPE == \"countries\":\n",
    "    \n",
    "    if os.path.isfile(DATA_PATH + 'country_idx.pkl'):\n",
    "        country_idx = pickle.load(open(DATA_PATH + 'country_idx.pkl', 'rb'))\n",
    "        total_countries = len(country_idx)\n",
    "        print(total_countries)\n",
    "    else:\n",
    "        country_idx = dict()\n",
    "        country_idx[\"-\"] = 0\n",
    "        country_idx[\"\"] = 1\n",
    "        idx = 1\n",
    "\n",
    "        for route in training[DATA_TYPE]:\n",
    "            for country in route:\n",
    "                if country not in country_idx:\n",
    "                    idx += 1\n",
    "                    country_idx[country] = idx\n",
    "        total_countries = idx + 1\n",
    "        print(total_countries)\n",
    "        pickle.dump(country_idx, open(DATA_PATH + 'country_idx.pkl', 'wb'))\n",
    "    embedding_vecor_length = 32\n",
    "else:\n",
    "    total_countries = None\n",
    "    country_idx = None\n",
    "    embedding_vecor_length = 32"
   ]
  },
  {
   "cell_type": "markdown",
   "metadata": {},
   "source": [
    "# Generate training and test sets"
   ]
  },
  {
   "cell_type": "code",
   "execution_count": 12,
   "metadata": {
    "ExecuteTime": {
     "end_time": "2020-03-23T10:52:36.121964Z",
     "start_time": "2020-03-23T10:52:35.988182Z"
    }
   },
   "outputs": [
    {
     "name": "stdout",
     "output_type": "stream",
     "text": [
      "(40, 2)\n"
     ]
    }
   ],
   "source": [
    "if DATA_TYPE == \"lats_longs\":\n",
    "    input_shape = np.array(training[\"lats_longs\"].values[0]).shape\n",
    "else:\n",
    "    input_shape = np.array(training[\"countries\"].values[0]).shape\n",
    "print(input_shape)"
   ]
  },
  {
   "cell_type": "markdown",
   "metadata": {},
   "source": [
    "## Create np arrays"
   ]
  },
  {
   "cell_type": "markdown",
   "metadata": {},
   "source": [
    "### Remove UNDECIDED by chosen label"
   ]
  },
  {
   "cell_type": "code",
   "execution_count": 13,
   "metadata": {
    "ExecuteTime": {
     "end_time": "2020-03-23T10:52:38.894848Z",
     "start_time": "2020-03-23T10:52:38.422639Z"
    }
   },
   "outputs": [
    {
     "name": "stdout",
     "output_type": "stream",
     "text": [
      "702383\n",
      "702383\n",
      "2802801\n"
     ]
    }
   ],
   "source": [
    "print(len(test_comb))\n",
    "\n",
    "test = test_comb[test_comb[LABELS] < 2]\n",
    "print(len(test))\n",
    "\n",
    "training = training[training[LABELS] < 2]\n",
    "print(len(training))"
   ]
  },
  {
   "cell_type": "markdown",
   "metadata": {
    "ExecuteTime": {
     "end_time": "2019-08-09T07:03:22.365509Z",
     "start_time": "2019-08-09T07:03:22.363420Z"
    }
   },
   "source": [
    "### Generate np arrays for test_comb (evaluation on the 'label_comb'), training and test sets"
   ]
  },
  {
   "cell_type": "code",
   "execution_count": 14,
   "metadata": {},
   "outputs": [
    {
     "name": "stdout",
     "output_type": "stream",
     "text": [
      "(702383, 40, 2) (702383, 40) (702383,)\n"
     ]
    }
   ],
   "source": [
    "x_test_comb, u_test_comb, y_test_comb = generate_set_arrays(test_comb, max_len, DATA_TYPE, 'combined', country_idx)\n",
    "print(x_test_comb.shape, u_test_comb.shape, y_test_comb.shape)"
   ]
  },
  {
   "cell_type": "code",
   "execution_count": 15,
   "metadata": {},
   "outputs": [
    {
     "name": "stdout",
     "output_type": "stream",
     "text": [
      "(2802801, 40, 2) (2802801, 40) (2802801,)\n"
     ]
    }
   ],
   "source": [
    "x_training, u_training, y_training = generate_set_arrays(training, max_len, DATA_TYPE, LABELS, country_idx)\n",
    "print(x_training.shape, u_training.shape, y_training.shape)"
   ]
  },
  {
   "cell_type": "code",
   "execution_count": 16,
   "metadata": {},
   "outputs": [
    {
     "name": "stdout",
     "output_type": "stream",
     "text": [
      "(702383, 40, 2) (702383, 40) (702383,)\n"
     ]
    }
   ],
   "source": [
    "x_test, u_test, y_test = generate_set_arrays(test, max_len, DATA_TYPE, LABELS, country_idx)\n",
    "print(x_test.shape, u_test.shape, y_test.shape)"
   ]
  },
  {
   "cell_type": "code",
   "execution_count": 17,
   "metadata": {
    "ExecuteTime": {
     "end_time": "2020-03-23T10:53:06.842150Z",
     "start_time": "2020-03-23T10:53:06.648190Z"
    }
   },
   "outputs": [
    {
     "name": "stdout",
     "output_type": "stream",
     "text": [
      "[0 1 2 3 4]\n"
     ]
    }
   ],
   "source": [
    "print(np.unique(u_test))"
   ]
  },
  {
   "cell_type": "markdown",
   "metadata": {},
   "source": [
    "# Define and run Attention model"
   ]
  },
  {
   "cell_type": "markdown",
   "metadata": {},
   "source": [
    "## Define Model"
   ]
  },
  {
   "cell_type": "code",
   "execution_count": 18,
   "metadata": {},
   "outputs": [
    {
     "name": "stdout",
     "output_type": "stream",
     "text": [
      "Supported attention layers: ['SDPA', 'SDPA_Q_S', 'SASA', 'SDPA_QS_KS', 'SDPA_Mul_S']\n"
     ]
    }
   ],
   "source": [
    "from attention_models import generate_model, ATTENTION_NAME_TYPE_DICT\n",
    "\n",
    "print(\"Supported attention layers:\", list(ATTENTION_NAME_TYPE_DICT.keys()))"
   ]
  },
  {
   "cell_type": "code",
   "execution_count": 19,
   "metadata": {
    "ExecuteTime": {
     "end_time": "2020-03-23T10:53:07.898053Z",
     "start_time": "2020-03-23T10:53:07.316478Z"
    },
    "scrolled": false
   },
   "outputs": [
    {
     "name": "stdout",
     "output_type": "stream",
     "text": [
      "WARNING:tensorflow:From C:\\Users\\tals\\AppData\\Roaming\\Python\\Python36\\site-packages\\tensorflow\\python\\framework\\op_def_library.py:263: colocate_with (from tensorflow.python.framework.ops) is deprecated and will be removed in a future version.\n",
      "Instructions for updating:\n",
      "Colocations handled automatically by placer.\n",
      "__________________________________________________________________________________________________\n",
      "Layer (type)                    Output Shape         Param #     Connected to                     \n",
      "==================================================================================================\n",
      "input_1 (InputLayer)            (None, 40, 2)        0                                            \n",
      "__________________________________________________________________________________________________\n",
      "time_distributed_1 (TimeDistrib (None, 40, 32)       96          input_1[0][0]                    \n",
      "__________________________________________________________________________________________________\n",
      "batch_normalization_1 (BatchNor (None, 40, 32)       128         time_distributed_1[0][0]         \n",
      "__________________________________________________________________________________________________\n",
      "activation_1 (Activation)       (None, 40, 32)       0           batch_normalization_1[0][0]      \n",
      "__________________________________________________________________________________________________\n",
      "q (TimeDistributed)             (None, 40, 32)       1024        activation_1[0][0]               \n",
      "__________________________________________________________________________________________________\n",
      "k (TimeDistributed)             (None, 40, 32)       1024        activation_1[0][0]               \n",
      "__________________________________________________________________________________________________\n",
      "v (TimeDistributed)             (None, 40, 32)       1024        activation_1[0][0]               \n",
      "__________________________________________________________________________________________________\n",
      "ScaledDotProductAttention (Scal [(None, 40, 32), [No 0           q[0][0]                          \n",
      "                                                                 k[0][0]                          \n",
      "                                                                 v[0][0]                          \n",
      "__________________________________________________________________________________________________\n",
      "bidirectional_1 (Bidirectional) (None, 200)          106400      ScaledDotProductAttention[0][0]  \n",
      "__________________________________________________________________________________________________\n",
      "output (Dense)                  (None, 1)            201         bidirectional_1[0][0]            \n",
      "==================================================================================================\n",
      "Total params: 109,897\n",
      "Trainable params: 109,833\n",
      "Non-trainable params: 64\n",
      "__________________________________________________________________________________________________\n",
      "None\n"
     ]
    }
   ],
   "source": [
    "if DATA_TYPE == \"lats_longs\":\n",
    "    USE_EMBEDDING = False\n",
    "else:\n",
    "    USE_EMBEDDING = True\n",
    "\n",
    "if ATTENTION_NAME == \"SDPA\":\n",
    "    USE_SOURCES = False\n",
    "else:\n",
    "    USE_SOURCES = True\n",
    "\n",
    "ATTENTION_FIRST = True\n",
    "BLSTM = True\n",
    "NO_LSTM = False\n",
    "\n",
    "\n",
    "model = generate_model(input_shape, ATTENTION_NAME, USE_SOURCES, USE_EMBEDDING, num_categories=total_countries,\n",
    "                       embedding_vecor_length=embedding_vecor_length, attention_first=ATTENTION_FIRST,\n",
    "                       blstm=BLSTM, no_lstm=NO_LSTM)\n",
    "print(model.summary())"
   ]
  },
  {
   "cell_type": "markdown",
   "metadata": {},
   "source": [
    "## Define training params"
   ]
  },
  {
   "cell_type": "code",
   "execution_count": 20,
   "metadata": {
    "ExecuteTime": {
     "end_time": "2020-03-23T10:53:08.123594Z",
     "start_time": "2020-03-23T10:53:08.120240Z"
    }
   },
   "outputs": [
    {
     "name": "stdout",
     "output_type": "stream",
     "text": [
      "None\n"
     ]
    }
   ],
   "source": [
    "from sklearn.utils import class_weight\n",
    "import math\n",
    "\n",
    "BALANCED_GENERATOR = True\n",
    "EPOCH_IS_ENTIRE_DATA = False\n",
    "epochs = 60 \n",
    "batch_size = 64\n",
    "\n",
    "samples_per_epoch = 128 * 1024 # 1024\n",
    "if EPOCH_IS_ENTIRE_DATA:\n",
    "    samples_per_epoch = math.ceil(len(x_training)/batch_size)\n",
    "\n",
    "val_batch_size = 1024\n",
    "validation_steps = math.ceil(len(x_test)/val_batch_size)\n",
    "\n",
    "CLASS_WEIGHTS = False\n",
    "class_weights = None\n",
    "if CLASS_WEIGHTS:\n",
    "    class_weights = class_weight.compute_class_weight('balanced',\n",
    "                                                 np.unique(training[LABELS]),\n",
    "                                                 training[LABELS])\n",
    "print(class_weights)"
   ]
  },
  {
   "cell_type": "code",
   "execution_count": 21,
   "metadata": {
    "ExecuteTime": {
     "end_time": "2020-03-23T10:53:08.136437Z",
     "start_time": "2020-03-23T10:53:08.130576Z"
    },
    "collapsed": true
   },
   "outputs": [],
   "source": [
    "from keras.callbacks import TensorBoard,ModelCheckpoint\n",
    "\n",
    "# tensorboard = TensorBoard(log_dir=MODELS_PATH + MODEL_NAME + '_Graph', histogram_freq=1, write_grads=True, write_graph=True,\n",
    "#                           write_images=True, batch_size=batch_size)\n",
    "# tensorboard.set_model(model)\n",
    "\n",
    "checkpointer_acc = ModelCheckpoint(monitor='val_acc', filepath= MODELS_PATH + MODEL_NAME + '_acc.hdf5', verbose=1, save_best_only=True, save_weights_only=True)\n",
    "\n",
    "callbacks = [checkpointer_acc] #tensorboard\n"
   ]
  },
  {
   "cell_type": "markdown",
   "metadata": {},
   "source": [
    "## Fit with Balanced Generator for regular attention (SDPA)"
   ]
  },
  {
   "cell_type": "code",
   "execution_count": 22,
   "metadata": {
    "ExecuteTime": {
     "end_time": "2020-03-23T10:53:08.163062Z",
     "start_time": "2020-03-23T10:53:08.157594Z"
    }
   },
   "outputs": [
    {
     "name": "stdout",
     "output_type": "stream",
     "text": [
      "WARNING:tensorflow:From C:\\Users\\tals\\AppData\\Roaming\\Python\\Python36\\site-packages\\tensorflow\\python\\ops\\math_ops.py:3066: to_int32 (from tensorflow.python.ops.math_ops) is deprecated and will be removed in a future version.\n",
      "Instructions for updating:\n",
      "Use tf.cast instead.\n",
      "Epoch 1/60\n",
      "131072/131072 [==============================] - 17403s 133ms/step - loss: 0.3870 - acc: 0.8185 - val_loss: 0.3687 - val_acc: 0.8500\n",
      "\n",
      "Epoch 00001: val_acc improved from -inf to 0.85003, saving model to ../models/lats_longs_combined_classification_SDPA_SimpleNet_acc.hdf5\n",
      "Epoch 2/60\n",
      "131072/131072 [==============================] - 17299s 132ms/step - loss: 0.3296 - acc: 0.8517 - val_loss: 0.3897 - val_acc: 0.8433\n",
      "\n",
      "Epoch 00002: val_acc did not improve from 0.85003\n",
      "Epoch 3/60\n",
      "131072/131072 [==============================] - 17379s 133ms/step - loss: 0.3200 - acc: 0.8571 - val_loss: 0.3883 - val_acc: 0.8428\n",
      "\n",
      "Epoch 00003: val_acc did not improve from 0.85003\n",
      "Epoch 4/60\n",
      "131072/131072 [==============================] - 17399s 133ms/step - loss: 0.4542 - acc: 0.7787 - val_loss: 0.3723 - val_acc: 0.8544\n",
      "\n",
      "Epoch 00004: val_acc improved from 0.85003 to 0.85442, saving model to ../models/lats_longs_combined_classification_SDPA_SimpleNet_acc.hdf5\n",
      "Epoch 5/60\n",
      "131072/131072 [==============================] - 17657s 135ms/step - loss: 0.3978 - acc: 0.8125 - val_loss: 0.4059 - val_acc: 0.8285\n",
      "\n",
      "Epoch 00005: val_acc did not improve from 0.85442\n",
      "Epoch 6/60\n",
      "131072/131072 [==============================] - 17523s 134ms/step - loss: 0.3576 - acc: 0.8355 - val_loss: 0.3789 - val_acc: 0.8467\n",
      "\n",
      "Epoch 00006: val_acc did not improve from 0.85442\n",
      "Epoch 7/60\n",
      "131072/131072 [==============================] - 17465s 133ms/step - loss: 0.3434 - acc: 0.8433 - val_loss: 0.3317 - val_acc: 0.8728\n",
      "\n",
      "Epoch 00007: val_acc improved from 0.85442 to 0.87285, saving model to ../models/lats_longs_combined_classification_SDPA_SimpleNet_acc.hdf5\n",
      "Epoch 8/60\n",
      "131072/131072 [==============================] - 17520s 134ms/step - loss: 0.3390 - acc: 0.8459 - val_loss: 0.3668 - val_acc: 0.8568\n",
      "\n",
      "Epoch 00008: val_acc did not improve from 0.87285\n",
      "Epoch 9/60\n",
      "131072/131072 [==============================] - 17593s 134ms/step - loss: 0.3416 - acc: 0.8448 - val_loss: 0.3574 - val_acc: 0.8638\n",
      "\n",
      "Epoch 00009: val_acc did not improve from 0.87285\n",
      "Epoch 10/60\n",
      "131072/131072 [==============================] - 18435s 141ms/step - loss: 0.4278 - acc: 0.7945 - val_loss: 0.4366 - val_acc: 0.8013\n",
      "\n",
      "Epoch 00010: val_acc did not improve from 0.87285\n",
      "Epoch 11/60\n",
      "131072/131072 [==============================] - 17972s 137ms/step - loss: 0.5607 - acc: 0.6992 - val_loss: 0.6057 - val_acc: 0.6997\n",
      "\n",
      "Epoch 00011: val_acc did not improve from 0.87285\n",
      "Epoch 12/60\n",
      "131072/131072 [==============================] - 17553s 134ms/step - loss: 0.5529 - acc: 0.7052 - val_loss: 0.4753 - val_acc: 0.7801\n",
      "\n",
      "Epoch 00012: val_acc did not improve from 0.87285\n",
      "Epoch 13/60\n",
      "131072/131072 [==============================] - 18995s 145ms/step - loss: 0.5114 - acc: 0.7360 - val_loss: 0.4881 - val_acc: 0.7560\n",
      "\n",
      "Epoch 00013: val_acc did not improve from 0.87285\n",
      "Epoch 14/60\n",
      "131072/131072 [==============================] - 18862s 144ms/step - loss: 0.4758 - acc: 0.7593 - val_loss: 0.4535 - val_acc: 0.7936\n",
      "\n",
      "Epoch 00014: val_acc did not improve from 0.87285\n",
      "Epoch 15/60\n",
      "131072/131072 [==============================] - 18337s 140ms/step - loss: 0.5130 - acc: 0.7321 - val_loss: 0.5166 - val_acc: 0.7391\n",
      "\n",
      "Epoch 00015: val_acc did not improve from 0.87285\n",
      "Epoch 16/60\n",
      "131072/131072 [==============================] - 17483s 133ms/step - loss: 0.6142 - acc: 0.6526 - val_loss: 0.5847 - val_acc: 0.7007\n",
      "\n",
      "Epoch 00016: val_acc did not improve from 0.87285\n",
      "Epoch 17/60\n",
      "131072/131072 [==============================] - 17667s 135ms/step - loss: 0.6524 - acc: 0.6084 - val_loss: 0.6960 - val_acc: 0.6920\n",
      "\n",
      "Epoch 00017: val_acc did not improve from 0.87285\n",
      "Epoch 18/60\n",
      "131072/131072 [==============================] - 17503s 134ms/step - loss: 0.6398 - acc: 0.6197 - val_loss: 0.5640 - val_acc: 0.7807\n",
      "\n",
      "Epoch 00018: val_acc did not improve from 0.87285\n",
      "Epoch 19/60\n",
      "131072/131072 [==============================] - 17529s 134ms/step - loss: 0.6129 - acc: 0.6566 - val_loss: 0.5592 - val_acc: 0.6863\n",
      "\n",
      "Epoch 00019: val_acc did not improve from 0.87285\n",
      "Epoch 20/60\n",
      "131072/131072 [==============================] - 17773s 136ms/step - loss: 0.5817 - acc: 0.6849 - val_loss: 0.5555 - val_acc: 0.7359\n",
      "\n",
      "Epoch 00020: val_acc did not improve from 0.87285\n",
      "Epoch 21/60\n",
      "131072/131072 [==============================] - 17729s 135ms/step - loss: 0.5150 - acc: 0.7369 - val_loss: 0.4950 - val_acc: 0.7707\n",
      "\n",
      "Epoch 00021: val_acc did not improve from 0.87285\n",
      "Epoch 22/60\n",
      "131072/131072 [==============================] - 17732s 135ms/step - loss: 0.4882 - acc: 0.7537 - val_loss: 0.4356 - val_acc: 0.8022\n",
      "\n",
      "Epoch 00022: val_acc did not improve from 0.87285\n",
      "Epoch 23/60\n",
      "131072/131072 [==============================] - 17781s 136ms/step - loss: 0.4817 - acc: 0.7585 - val_loss: 0.4152 - val_acc: 0.8231\n",
      "\n",
      "Epoch 00023: val_acc did not improve from 0.87285\n",
      "Epoch 24/60\n",
      " 43256/131072 [========>.....................] - ETA: 3:15:37 - loss: 0.5008 - acc: 0.7444"
     ]
    },
    {
     "ename": "KeyboardInterrupt",
     "evalue": "",
     "output_type": "error",
     "traceback": [
      "\u001b[1;31m---------------------------------------------------------------------------\u001b[0m",
      "\u001b[1;31mKeyboardInterrupt\u001b[0m                         Traceback (most recent call last)",
      "\u001b[1;32m<ipython-input-22-defbe2a2725e>\u001b[0m in \u001b[0;36m<module>\u001b[1;34m()\u001b[0m\n\u001b[0;32m     15\u001b[0m \u001b[1;33m\u001b[0m\u001b[0m\n\u001b[0;32m     16\u001b[0m \u001b[1;32mif\u001b[0m \u001b[1;32mnot\u001b[0m \u001b[0mUSE_SOURCES\u001b[0m\u001b[1;33m:\u001b[0m\u001b[1;33m\u001b[0m\u001b[0m\n\u001b[1;32m---> 17\u001b[1;33m     \u001b[0mhistory\u001b[0m \u001b[1;33m=\u001b[0m \u001b[0mregular_training\u001b[0m\u001b[1;33m(\u001b[0m\u001b[1;33m)\u001b[0m\u001b[1;33m\u001b[0m\u001b[0m\n\u001b[0m\u001b[0;32m     18\u001b[0m \u001b[1;33m\u001b[0m\u001b[0m\n",
      "\u001b[1;32m<ipython-input-22-defbe2a2725e>\u001b[0m in \u001b[0;36mregular_training\u001b[1;34m()\u001b[0m\n\u001b[0;32m     12\u001b[0m     return model.fit_generator(generator=training_generator, epochs=epochs, class_weight=class_weights,\n\u001b[0;32m     13\u001b[0m                                   \u001b[0msteps_per_epoch\u001b[0m\u001b[1;33m=\u001b[0m\u001b[0msamples_per_epoch\u001b[0m\u001b[1;33m,\u001b[0m \u001b[0mverbose\u001b[0m\u001b[1;33m=\u001b[0m\u001b[1;36m1\u001b[0m\u001b[1;33m,\u001b[0m \u001b[0mcallbacks\u001b[0m\u001b[1;33m=\u001b[0m\u001b[0mcallbacks\u001b[0m\u001b[1;33m,\u001b[0m\u001b[1;33m\u001b[0m\u001b[0m\n\u001b[1;32m---> 14\u001b[1;33m                                   validation_data=val_generator(x_test, y_test,val_batch_size), validation_steps=validation_steps)\n\u001b[0m\u001b[0;32m     15\u001b[0m \u001b[1;33m\u001b[0m\u001b[0m\n\u001b[0;32m     16\u001b[0m \u001b[1;32mif\u001b[0m \u001b[1;32mnot\u001b[0m \u001b[0mUSE_SOURCES\u001b[0m\u001b[1;33m:\u001b[0m\u001b[1;33m\u001b[0m\u001b[0m\n",
      "\u001b[1;32m~\\AppData\\Roaming\\Python\\Python36\\site-packages\\keras\\legacy\\interfaces.py\u001b[0m in \u001b[0;36mwrapper\u001b[1;34m(*args, **kwargs)\u001b[0m\n\u001b[0;32m     89\u001b[0m                 warnings.warn('Update your `' + object_name + '` call to the ' +\n\u001b[0;32m     90\u001b[0m                               'Keras 2 API: ' + signature, stacklevel=2)\n\u001b[1;32m---> 91\u001b[1;33m             \u001b[1;32mreturn\u001b[0m \u001b[0mfunc\u001b[0m\u001b[1;33m(\u001b[0m\u001b[1;33m*\u001b[0m\u001b[0margs\u001b[0m\u001b[1;33m,\u001b[0m \u001b[1;33m**\u001b[0m\u001b[0mkwargs\u001b[0m\u001b[1;33m)\u001b[0m\u001b[1;33m\u001b[0m\u001b[0m\n\u001b[0m\u001b[0;32m     92\u001b[0m         \u001b[0mwrapper\u001b[0m\u001b[1;33m.\u001b[0m\u001b[0m_original_function\u001b[0m \u001b[1;33m=\u001b[0m \u001b[0mfunc\u001b[0m\u001b[1;33m\u001b[0m\u001b[0m\n\u001b[0;32m     93\u001b[0m         \u001b[1;32mreturn\u001b[0m \u001b[0mwrapper\u001b[0m\u001b[1;33m\u001b[0m\u001b[0m\n",
      "\u001b[1;32m~\\AppData\\Roaming\\Python\\Python36\\site-packages\\keras\\engine\\training.py\u001b[0m in \u001b[0;36mfit_generator\u001b[1;34m(self, generator, steps_per_epoch, epochs, verbose, callbacks, validation_data, validation_steps, class_weight, max_queue_size, workers, use_multiprocessing, shuffle, initial_epoch)\u001b[0m\n\u001b[0;32m   1416\u001b[0m             \u001b[0muse_multiprocessing\u001b[0m\u001b[1;33m=\u001b[0m\u001b[0muse_multiprocessing\u001b[0m\u001b[1;33m,\u001b[0m\u001b[1;33m\u001b[0m\u001b[0m\n\u001b[0;32m   1417\u001b[0m             \u001b[0mshuffle\u001b[0m\u001b[1;33m=\u001b[0m\u001b[0mshuffle\u001b[0m\u001b[1;33m,\u001b[0m\u001b[1;33m\u001b[0m\u001b[0m\n\u001b[1;32m-> 1418\u001b[1;33m             initial_epoch=initial_epoch)\n\u001b[0m\u001b[0;32m   1419\u001b[0m \u001b[1;33m\u001b[0m\u001b[0m\n\u001b[0;32m   1420\u001b[0m     \u001b[1;33m@\u001b[0m\u001b[0minterfaces\u001b[0m\u001b[1;33m.\u001b[0m\u001b[0mlegacy_generator_methods_support\u001b[0m\u001b[1;33m\u001b[0m\u001b[0m\n",
      "\u001b[1;32m~\\AppData\\Roaming\\Python\\Python36\\site-packages\\keras\\engine\\training_generator.py\u001b[0m in \u001b[0;36mfit_generator\u001b[1;34m(model, generator, steps_per_epoch, epochs, verbose, callbacks, validation_data, validation_steps, class_weight, max_queue_size, workers, use_multiprocessing, shuffle, initial_epoch)\u001b[0m\n\u001b[0;32m    215\u001b[0m                 outs = model.train_on_batch(x, y,\n\u001b[0;32m    216\u001b[0m                                             \u001b[0msample_weight\u001b[0m\u001b[1;33m=\u001b[0m\u001b[0msample_weight\u001b[0m\u001b[1;33m,\u001b[0m\u001b[1;33m\u001b[0m\u001b[0m\n\u001b[1;32m--> 217\u001b[1;33m                                             class_weight=class_weight)\n\u001b[0m\u001b[0;32m    218\u001b[0m \u001b[1;33m\u001b[0m\u001b[0m\n\u001b[0;32m    219\u001b[0m                 \u001b[0mouts\u001b[0m \u001b[1;33m=\u001b[0m \u001b[0mto_list\u001b[0m\u001b[1;33m(\u001b[0m\u001b[0mouts\u001b[0m\u001b[1;33m)\u001b[0m\u001b[1;33m\u001b[0m\u001b[0m\n",
      "\u001b[1;32m~\\AppData\\Roaming\\Python\\Python36\\site-packages\\keras\\engine\\training.py\u001b[0m in \u001b[0;36mtrain_on_batch\u001b[1;34m(self, x, y, sample_weight, class_weight)\u001b[0m\n\u001b[0;32m   1215\u001b[0m             \u001b[0mins\u001b[0m \u001b[1;33m=\u001b[0m \u001b[0mx\u001b[0m \u001b[1;33m+\u001b[0m \u001b[0my\u001b[0m \u001b[1;33m+\u001b[0m \u001b[0msample_weights\u001b[0m\u001b[1;33m\u001b[0m\u001b[0m\n\u001b[0;32m   1216\u001b[0m         \u001b[0mself\u001b[0m\u001b[1;33m.\u001b[0m\u001b[0m_make_train_function\u001b[0m\u001b[1;33m(\u001b[0m\u001b[1;33m)\u001b[0m\u001b[1;33m\u001b[0m\u001b[0m\n\u001b[1;32m-> 1217\u001b[1;33m         \u001b[0moutputs\u001b[0m \u001b[1;33m=\u001b[0m \u001b[0mself\u001b[0m\u001b[1;33m.\u001b[0m\u001b[0mtrain_function\u001b[0m\u001b[1;33m(\u001b[0m\u001b[0mins\u001b[0m\u001b[1;33m)\u001b[0m\u001b[1;33m\u001b[0m\u001b[0m\n\u001b[0m\u001b[0;32m   1218\u001b[0m         \u001b[1;32mreturn\u001b[0m \u001b[0munpack_singleton\u001b[0m\u001b[1;33m(\u001b[0m\u001b[0moutputs\u001b[0m\u001b[1;33m)\u001b[0m\u001b[1;33m\u001b[0m\u001b[0m\n\u001b[0;32m   1219\u001b[0m \u001b[1;33m\u001b[0m\u001b[0m\n",
      "\u001b[1;32m~\\AppData\\Roaming\\Python\\Python36\\site-packages\\keras\\backend\\tensorflow_backend.py\u001b[0m in \u001b[0;36m__call__\u001b[1;34m(self, inputs)\u001b[0m\n\u001b[0;32m   2713\u001b[0m                 \u001b[1;32mreturn\u001b[0m \u001b[0mself\u001b[0m\u001b[1;33m.\u001b[0m\u001b[0m_legacy_call\u001b[0m\u001b[1;33m(\u001b[0m\u001b[0minputs\u001b[0m\u001b[1;33m)\u001b[0m\u001b[1;33m\u001b[0m\u001b[0m\n\u001b[0;32m   2714\u001b[0m \u001b[1;33m\u001b[0m\u001b[0m\n\u001b[1;32m-> 2715\u001b[1;33m             \u001b[1;32mreturn\u001b[0m \u001b[0mself\u001b[0m\u001b[1;33m.\u001b[0m\u001b[0m_call\u001b[0m\u001b[1;33m(\u001b[0m\u001b[0minputs\u001b[0m\u001b[1;33m)\u001b[0m\u001b[1;33m\u001b[0m\u001b[0m\n\u001b[0m\u001b[0;32m   2716\u001b[0m         \u001b[1;32melse\u001b[0m\u001b[1;33m:\u001b[0m\u001b[1;33m\u001b[0m\u001b[0m\n\u001b[0;32m   2717\u001b[0m             \u001b[1;32mif\u001b[0m \u001b[0mpy_any\u001b[0m\u001b[1;33m(\u001b[0m\u001b[0mis_tensor\u001b[0m\u001b[1;33m(\u001b[0m\u001b[0mx\u001b[0m\u001b[1;33m)\u001b[0m \u001b[1;32mfor\u001b[0m \u001b[0mx\u001b[0m \u001b[1;32min\u001b[0m \u001b[0minputs\u001b[0m\u001b[1;33m)\u001b[0m\u001b[1;33m:\u001b[0m\u001b[1;33m\u001b[0m\u001b[0m\n",
      "\u001b[1;32m~\\AppData\\Roaming\\Python\\Python36\\site-packages\\keras\\backend\\tensorflow_backend.py\u001b[0m in \u001b[0;36m_call\u001b[1;34m(self, inputs)\u001b[0m\n\u001b[0;32m   2673\u001b[0m             \u001b[0mfetched\u001b[0m \u001b[1;33m=\u001b[0m \u001b[0mself\u001b[0m\u001b[1;33m.\u001b[0m\u001b[0m_callable_fn\u001b[0m\u001b[1;33m(\u001b[0m\u001b[1;33m*\u001b[0m\u001b[0marray_vals\u001b[0m\u001b[1;33m,\u001b[0m \u001b[0mrun_metadata\u001b[0m\u001b[1;33m=\u001b[0m\u001b[0mself\u001b[0m\u001b[1;33m.\u001b[0m\u001b[0mrun_metadata\u001b[0m\u001b[1;33m)\u001b[0m\u001b[1;33m\u001b[0m\u001b[0m\n\u001b[0;32m   2674\u001b[0m         \u001b[1;32melse\u001b[0m\u001b[1;33m:\u001b[0m\u001b[1;33m\u001b[0m\u001b[0m\n\u001b[1;32m-> 2675\u001b[1;33m             \u001b[0mfetched\u001b[0m \u001b[1;33m=\u001b[0m \u001b[0mself\u001b[0m\u001b[1;33m.\u001b[0m\u001b[0m_callable_fn\u001b[0m\u001b[1;33m(\u001b[0m\u001b[1;33m*\u001b[0m\u001b[0marray_vals\u001b[0m\u001b[1;33m)\u001b[0m\u001b[1;33m\u001b[0m\u001b[0m\n\u001b[0m\u001b[0;32m   2676\u001b[0m         \u001b[1;32mreturn\u001b[0m \u001b[0mfetched\u001b[0m\u001b[1;33m[\u001b[0m\u001b[1;33m:\u001b[0m\u001b[0mlen\u001b[0m\u001b[1;33m(\u001b[0m\u001b[0mself\u001b[0m\u001b[1;33m.\u001b[0m\u001b[0moutputs\u001b[0m\u001b[1;33m)\u001b[0m\u001b[1;33m]\u001b[0m\u001b[1;33m\u001b[0m\u001b[0m\n\u001b[0;32m   2677\u001b[0m \u001b[1;33m\u001b[0m\u001b[0m\n",
      "\u001b[1;32m~\\AppData\\Roaming\\Python\\Python36\\site-packages\\tensorflow\\python\\client\\session.py\u001b[0m in \u001b[0;36m__call__\u001b[1;34m(self, *args, **kwargs)\u001b[0m\n\u001b[0;32m   1437\u001b[0m           ret = tf_session.TF_SessionRunCallable(\n\u001b[0;32m   1438\u001b[0m               \u001b[0mself\u001b[0m\u001b[1;33m.\u001b[0m\u001b[0m_session\u001b[0m\u001b[1;33m.\u001b[0m\u001b[0m_session\u001b[0m\u001b[1;33m,\u001b[0m \u001b[0mself\u001b[0m\u001b[1;33m.\u001b[0m\u001b[0m_handle\u001b[0m\u001b[1;33m,\u001b[0m \u001b[0margs\u001b[0m\u001b[1;33m,\u001b[0m \u001b[0mstatus\u001b[0m\u001b[1;33m,\u001b[0m\u001b[1;33m\u001b[0m\u001b[0m\n\u001b[1;32m-> 1439\u001b[1;33m               run_metadata_ptr)\n\u001b[0m\u001b[0;32m   1440\u001b[0m         \u001b[1;32mif\u001b[0m \u001b[0mrun_metadata\u001b[0m\u001b[1;33m:\u001b[0m\u001b[1;33m\u001b[0m\u001b[0m\n\u001b[0;32m   1441\u001b[0m           \u001b[0mproto_data\u001b[0m \u001b[1;33m=\u001b[0m \u001b[0mtf_session\u001b[0m\u001b[1;33m.\u001b[0m\u001b[0mTF_GetBuffer\u001b[0m\u001b[1;33m(\u001b[0m\u001b[0mrun_metadata_ptr\u001b[0m\u001b[1;33m)\u001b[0m\u001b[1;33m\u001b[0m\u001b[0m\n",
      "\u001b[1;31mKeyboardInterrupt\u001b[0m: "
     ]
    }
   ],
   "source": [
    "from training_utils import balanced_generator, val_generator, generator\n",
    "\n",
    "def regular_training():\n",
    "    if BALANCED_GENERATOR:\n",
    "            training_generator = balanced_generator(x_training, y_training, batch_size=batch_size, input_shape=input_shape, \n",
    "                                                    use_embedding=USE_EMBEDDING, random_state=SEED)\n",
    "    elif EPOCH_IS_ENTIRE_DATA:\n",
    "        training_generator = val_generator(x_training, y_training, batch_size)\n",
    "    else:\n",
    "        training_generator = generator(x_training, y_training, batch_size=batch_size)\n",
    "\n",
    "    return model.fit_generator(generator=training_generator, epochs=epochs, class_weight=class_weights,\n",
    "                                  steps_per_epoch=samples_per_epoch, verbose=1, callbacks=callbacks,\n",
    "                                  validation_data=val_generator(x_test, y_test,val_batch_size), validation_steps=validation_steps)\n",
    "\n",
    "if not USE_SOURCES:\n",
    "    history = regular_training()\n",
    "        "
   ]
  },
  {
   "cell_type": "markdown",
   "metadata": {},
   "source": [
    "## Fit with balanced generator for attention with sources"
   ]
  },
  {
   "cell_type": "code",
   "execution_count": null,
   "metadata": {
    "ExecuteTime": {
     "end_time": "2020-03-23T12:30:36.799017Z",
     "start_time": "2020-03-23T10:53:08.339451Z"
    },
    "collapsed": true
   },
   "outputs": [],
   "source": [
    "from training_utils import balanced_sources_generator, val_sources_generator, sources_generator\n",
    "\n",
    "def sources_training():\n",
    "    if BALANCED_GENERATOR:\n",
    "        training_generator = balanced_sources_generator(x_training, u_training, y_training, batch_size=batch_size, \n",
    "                                                        input_shape=input_shape, use_embedding=USE_EMBEDDING, random_state=SEED)\n",
    "    elif EPOCH_IS_ENTIRE_DATA:\n",
    "        training_generator = val_sources_generator(x_training, u_training, y_training, batch_size)\n",
    "    else:\n",
    "        training_generator = sources_generator(x_training, u_training, y_training, batch_size)\n",
    "\n",
    "    return model.fit_generator(generator=training_generator, epochs=epochs, class_weight=class_weights,\n",
    "                                  steps_per_epoch=samples_per_epoch, verbose=1, callbacks=callbacks,\n",
    "                                  validation_data=val_sources_generator(x_test, u_test, y_test,val_batch_size), validation_steps=validation_steps)\n",
    "\n",
    "if USE_SOURCES:\n",
    "    history = sources_training()\n",
    "        "
   ]
  },
  {
   "cell_type": "markdown",
   "metadata": {},
   "source": [
    "# Plot history accuracy"
   ]
  },
  {
   "cell_type": "code",
   "execution_count": null,
   "metadata": {
    "ExecuteTime": {
     "end_time": "2020-03-23T12:30:39.379205Z",
     "start_time": "2020-03-23T12:30:39.110988Z"
    },
    "collapsed": true
   },
   "outputs": [],
   "source": [
    "from evaluation_utils import *\n",
    "import pickle\n",
    "\n",
    "with open(RESULTS_PATH + MODEL_NAME +  \"_accuracy.pkl\", 'wb') as output:\n",
    "    pickle.dump(history.history, output, pickle.HIGHEST_PROTOCOL)\n",
    "\n",
    "#list all data in history\n",
    "print(history.history.keys())\n",
    "plot_history_accuracy(history.history, epochs, RESULTS_PATH + MODEL_NAME)\n",
    "plot_history_loss(history.history, epochs, RESULTS_PATH + MODEL_NAME)"
   ]
  },
  {
   "cell_type": "markdown",
   "metadata": {
    "ExecuteTime": {
     "end_time": "2018-10-20T11:24:40.580036Z",
     "start_time": "2018-10-20T11:24:33.351927Z"
    }
   },
   "source": [
    "# Final evaluation of the model\n",
    "## Load best checkpoint"
   ]
  },
  {
   "cell_type": "code",
   "execution_count": 23,
   "metadata": {
    "ExecuteTime": {
     "end_time": "2020-03-23T12:30:39.604722Z",
     "start_time": "2020-03-23T12:30:39.381256Z"
    },
    "collapsed": true
   },
   "outputs": [],
   "source": [
    "model.load_weights(MODELS_PATH + MODEL_NAME + '_acc.hdf5')"
   ]
  },
  {
   "cell_type": "markdown",
   "metadata": {},
   "source": [
    "## Evaluate accuracy over the test set"
   ]
  },
  {
   "cell_type": "code",
   "execution_count": 26,
   "metadata": {
    "ExecuteTime": {
     "end_time": "2020-03-23T12:32:45.987345Z",
     "start_time": "2020-03-23T12:31:44.683520Z"
    }
   },
   "outputs": [
    {
     "name": "stdout",
     "output_type": "stream",
     "text": [
      "702383/702383 [==============================] - 355s 505us/step\n",
      "702383 702383\n"
     ]
    }
   ],
   "source": [
    "from model_utils import *\n",
    "\n",
    "y_test_prediction, y_test_prob = get_model_pred_prob(model, x_test, u_test, val_batch_size, USE_SOURCES)\n",
    "print(len(y_test_prediction), len(y_test))"
   ]
  },
  {
   "cell_type": "code",
   "execution_count": 27,
   "metadata": {},
   "outputs": [
    {
     "name": "stdout",
     "output_type": "stream",
     "text": [
      "accuracy_score for SDPA 0.8728457266192376\n",
      "FA for SDPA 0.12331539515145162\n",
      "Detection rate i.e. recall_score for SDPA 0.7981833003377198\n",
      "AUC for SDPA 0.9164213038333322\n",
      "TPR@FPR=0.001 for SDPA (0.0009984506799793425, 0.17610923488994992)\n",
      "TPR@FPR=0.01 for SDPA (0.009996482220242952, 0.48410387795504833)\n",
      "TPR@FPR=0.1 for SDPA (0.09999925153622191, 0.7691277512518924)\n"
     ]
    }
   ],
   "source": [
    "from evaluation_utils import *\n",
    "print_evaluation_metrics(y_test, y_test_prediction, y_test_prob, ATTENTION_NAME)"
   ]
  },
  {
   "cell_type": "code",
   "execution_count": 28,
   "metadata": {},
   "outputs": [
    {
     "data": {
      "image/png": "[encoded data removed]",
      "text/plain": [
       "<Figure size 432x288 with 1 Axes>"
      ]
     },
     "metadata": {},
     "output_type": "display_data"
    }
   ],
   "source": [
    "plot_roc_curve(y_test, y_test_prob, path_prefix, model_name=ATTENTION_NAME, max_fp=0.1)"
   ]
  },
  {
   "cell_type": "code",
   "execution_count": 29,
   "metadata": {
    "ExecuteTime": {
     "start_time": "2020-03-23T10:51:07.050Z"
    }
   },
   "outputs": [
    {
     "name": "stdout",
     "output_type": "stream",
     "text": [
      "Confusion matrix, without normalization\n",
      "Normalized confusion matrix\n"
     ]
    },
    {
     "data": {
      "image/png": "[encoded data removed]",
      "text/plain": [
       "<Figure size 432x288 with 2 Axes>"
      ]
     },
     "metadata": {},
     "output_type": "display_data"
    },
    {
     "data": {
      "image/png": "[encoded data removed]",
      "text/plain": [
       "<Figure size 432x288 with 2 Axes>"
      ]
     },
     "metadata": {},
     "output_type": "display_data"
    }
   ],
   "source": [
    "compute_confusion_matrix(y_test, y_test_prediction, class_names, path_prefix)"
   ]
  },
  {
   "cell_type": "markdown",
   "metadata": {},
   "source": [
    "### Over test_comb - based on 'combined' labels"
   ]
  },
  {
   "cell_type": "code",
   "execution_count": 30,
   "metadata": {
    "ExecuteTime": {
     "start_time": "2020-03-23T10:51:07.032Z"
    }
   },
   "outputs": [
    {
     "name": "stdout",
     "output_type": "stream",
     "text": [
      "702383/702383 [==============================] - 360s 512us/step\n",
      "702383 702383\n"
     ]
    }
   ],
   "source": [
    "y_test_comb_prediction, y_test_comb_prob = get_model_pred_prob(model, x_test_comb, u_test_comb, val_batch_size, USE_SOURCES)\n",
    "print(len(y_test_comb_prediction), len(y_test_comb))"
   ]
  },
  {
   "cell_type": "code",
   "execution_count": 31,
   "metadata": {},
   "outputs": [
    {
     "name": "stdout",
     "output_type": "stream",
     "text": [
      "accuracy_score for SDPA 0.8728457266192376\n",
      "FA for SDPA 0.12331539515145162\n",
      "Detection rate i.e. recall_score for SDPA 0.7981833003377198\n",
      "AUC for SDPA 0.9164213038333322\n",
      "TPR@FPR=0.001 for SDPA (0.0009984506799793425, 0.17610923488994992)\n",
      "TPR@FPR=0.01 for SDPA (0.009996482220242952, 0.48410387795504833)\n",
      "TPR@FPR=0.1 for SDPA (0.09999925153622191, 0.7691277512518924)\n"
     ]
    }
   ],
   "source": [
    "print_evaluation_metrics(y_test_comb, y_test_comb_prediction, y_test_comb_prob, ATTENTION_NAME)"
   ]
  },
  {
   "cell_type": "code",
   "execution_count": 32,
   "metadata": {},
   "outputs": [
    {
     "data": {
      "image/png": "[encoded data removed]",
      "text/plain": [
       "<Figure size 432x288 with 1 Axes>"
      ]
     },
     "metadata": {},
     "output_type": "display_data"
    }
   ],
   "source": [
    "plot_roc_curve(y_test_comb, y_test_comb_prob, path_prefix + '_comb', model_name=ATTENTION_NAME, max_fp=1)"
   ]
  },
  {
   "cell_type": "code",
   "execution_count": 33,
   "metadata": {
    "ExecuteTime": {
     "start_time": "2020-03-23T10:51:07.061Z"
    },
    "scrolled": false
   },
   "outputs": [
    {
     "name": "stdout",
     "output_type": "stream",
     "text": [
      "Confusion matrix, without normalization\n",
      "Normalized confusion matrix\n"
     ]
    },
    {
     "data": {
      "image/png": "[encoded data removed]",
      "text/plain": [
       "<Figure size 432x288 with 2 Axes>"
      ]
     },
     "metadata": {},
     "output_type": "display_data"
    },
    {
     "data": {
      "image/png": "[encoded data removed]",
      "text/plain": [
       "<Figure size 432x288 with 2 Axes>"
      ]
     },
     "metadata": {},
     "output_type": "display_data"
    }
   ],
   "source": [
    "compute_confusion_matrix(y_test_comb, y_test_comb_prediction, class_names, path_prefix + \"_comb\")"
   ]
  },
  {
   "cell_type": "markdown",
   "metadata": {},
   "source": [
    "# Visualize Model"
   ]
  },
  {
   "cell_type": "code",
   "execution_count": 34,
   "metadata": {
    "collapsed": true
   },
   "outputs": [],
   "source": [
    "from model_visualization_utils import *"
   ]
  },
  {
   "cell_type": "markdown",
   "metadata": {},
   "source": [
    "## Print Source Embeddings\n",
    "\n",
    "i.e. the confidence score for each source"
   ]
  },
  {
   "cell_type": "code",
   "execution_count": 35,
   "metadata": {
    "collapsed": true,
    "scrolled": true
   },
   "outputs": [],
   "source": [
    "if USE_SOURCES:\n",
    "    print({ipsource_dict[i]: score for i, score in enumerate(get_source_embeddings(model)) if i > 0})"
   ]
  },
  {
   "cell_type": "markdown",
   "metadata": {},
   "source": [
    "## Get a sample"
   ]
  },
  {
   "cell_type": "code",
   "execution_count": 36,
   "metadata": {
    "ExecuteTime": {
     "end_time": "2020-03-23T12:30:36.825830Z",
     "start_time": "2020-03-23T12:30:36.818529Z"
    }
   },
   "outputs": [
    {
     "name": "stdout",
     "output_type": "stream",
     "text": [
      "123\n",
      "1 1\n"
     ]
    }
   ],
   "source": [
    "c_index = np.where(y_test==1)[0][10]\n",
    "print(c_index)\n",
    "print(y_test[c_index], y_test_prediction[c_index][0])"
   ]
  },
  {
   "cell_type": "markdown",
   "metadata": {},
   "source": [
    "## Visualize Attention"
   ]
  },
  {
   "cell_type": "code",
   "execution_count": 37,
   "metadata": {},
   "outputs": [
    {
     "name": "stdout",
     "output_type": "stream",
     "text": [
      "(40, 40)\n"
     ]
    }
   ],
   "source": [
    "attention_vec_out, sources_out = get_attention_sources_vecs(x_test[c_index:c_index+2], u_test[c_index:c_index+2], model,\n",
    "                                                                use_sources=USE_SOURCES, attention_name=ATTENTION_NAME)\n",
    "attention_vec_out = attention_vec_out[0]\n",
    "print(attention_vec_out.shape)\n",
    "if sources_out is not None:\n",
    "    sources_out = sources_out[0]\n",
    "    print(sources_out.shape)\n",
    "else:\n",
    "    sources_out = None"
   ]
  },
  {
   "cell_type": "code",
   "execution_count": 38,
   "metadata": {},
   "outputs": [
    {
     "data": {
      "image/png": "[encoded data removed]",
      "text/plain": [
       "<Figure size 1440x72 with 2 Axes>"
      ]
     },
     "metadata": {},
     "output_type": "display_data"
    }
   ],
   "source": [
    "generate_attention_plot(c_index, test, attention_vec_out, use_sources=USE_SOURCES, sources_out=sources_out,\n",
    "                        attention_name=ATTENTION_NAME)"
   ]
  },
  {
   "cell_type": "code",
   "execution_count": 39,
   "metadata": {
    "scrolled": false
   },
   "outputs": [
    {
     "data": {
      "image/png": "[encoded data removed]",
      "text/plain": [
       "<Figure size 1008x864 with 2 Axes>"
      ]
     },
     "metadata": {},
     "output_type": "display_data"
    }
   ],
   "source": [
    "generate_attention_plot(c_index, test, attention_vec_out, use_sources=USE_SOURCES, sources_out=sources_out, attention_name=ATTENTION_NAME, \n",
    "                        full_attention_matrix=True, )"
   ]
  },
  {
   "cell_type": "markdown",
   "metadata": {},
   "source": [
    "# Export the model to a file"
   ]
  },
  {
   "cell_type": "code",
   "execution_count": 40,
   "metadata": {
    "ExecuteTime": {
     "end_time": "2020-03-18T09:00:58.325013Z",
     "start_time": "2020-03-18T09:00:58.293080Z"
    }
   },
   "outputs": [
    {
     "name": "stdout",
     "output_type": "stream",
     "text": [
      "Save Model\n"
     ]
    }
   ],
   "source": [
    "model_json = model.to_json()\n",
    "with open(MODELS_PATH + MODEL_NAME + '.json', \"w\") as json_file:\n",
    "    json_file.write(model_json)\n",
    "model.save_weights(MODELS_PATH + MODEL_NAME + '.h5')\n",
    "print(\"Save Model\")"
   ]
  }
 ],
 "metadata": {
  "kernelspec": {
   "display_name": "research",
   "language": "python",
   "name": "research"
  },
  "language_info": {
   "codemirror_mode": {
    "name": "ipython",
    "version": 3
   },
   "file_extension": ".py",
   "mimetype": "text/x-python",
   "name": "python",
   "nbconvert_exporter": "python",
   "pygments_lexer": "ipython3",
   "version": "3.6.5"
  },
  "toc": {
   "base_numbering": 1,
   "nav_menu": {},
   "number_sections": true,
   "sideBar": true,
   "skip_h1_title": false,
   "title_cell": "Table of Contents",
   "title_sidebar": "Contents",
   "toc_cell": false,
   "toc_position": {},
   "toc_section_display": true,
   "toc_window_display": true
  },
  "varInspector": {
   "cols": {
    "lenName": 16,
    "lenType": 16,
    "lenVar": 40
   },
   "kernels_config": {
    "python": {
     "delete_cmd_postfix": "",
     "delete_cmd_prefix": "del ",
     "library": "var_list.py",
     "varRefreshCmd": "print(var_dic_list())"
    },
    "r": {
     "delete_cmd_postfix": ") ",
     "delete_cmd_prefix": "rm(",
     "library": "var_list.r",
     "varRefreshCmd": "cat(var_dic_list()) "
    }
   },
   "position": {
    "height": "413px",
    "left": "1165px",
    "right": "20px",
    "top": "87px",
    "width": "350px"
   },
   "types_to_exclude": [
    "module",
    "function",
    "builtin_function_or_method",
    "instance",
    "_Feature"
   ],
   "window_display": false
  }
 },
 "nbformat": 4,
 "nbformat_minor": 4
}
