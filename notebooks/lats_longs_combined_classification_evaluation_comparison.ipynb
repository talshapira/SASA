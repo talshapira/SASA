{
 "cells": [
  {
   "cell_type": "markdown",
   "metadata": {},
   "source": [
    "# Import python packages"
   ]
  },
  {
   "cell_type": "code",
   "execution_count": 1,
   "metadata": {
    "collapsed": true
   },
   "outputs": [],
   "source": [
    "import os\n",
    "SRC_PATH = '../src/'\n",
    "os.chdir(SRC_PATH)"
   ]
  },
  {
   "cell_type": "code",
   "execution_count": 2,
   "metadata": {
    "ExecuteTime": {
     "end_time": "2020-03-23T10:51:10.795809Z",
     "start_time": "2020-03-23T10:51:07.294930Z"
    },
    "collapsed": true
   },
   "outputs": [],
   "source": [
    "import numpy as np\n",
    "import pandas as pd\n",
    "import matplotlib.pyplot as plt\n",
    "%matplotlib inline\n",
    "\n",
    "SEED = 7\n",
    "np.random.seed(SEED)"
   ]
  },
  {
   "cell_type": "markdown",
   "metadata": {},
   "source": [
    "# Define parameters and load dataset"
   ]
  },
  {
   "cell_type": "code",
   "execution_count": 3,
   "metadata": {
    "collapsed": true
   },
   "outputs": [],
   "source": [
    "LABELS = 'combined' # choose between 'vf and 'combined'\n",
    "DATA_TYPE = 'lats_longs' # choose between 'lats_longs' and 'countries'\n",
    "\n",
    "LOAD_TRAINING = False"
   ]
  },
  {
   "cell_type": "code",
   "execution_count": 4,
   "metadata": {
    "ExecuteTime": {
     "end_time": "2020-03-23T10:51:32.415657Z",
     "start_time": "2020-03-23T10:51:10.798424Z"
    }
   },
   "outputs": [
    {
     "name": "stdout",
     "output_type": "stream",
     "text": [
      "702383\n"
     ]
    }
   ],
   "source": [
    "MODEL_NAME = DATA_TYPE + '_' + LABELS + '_classification_evaluation_comparison'\n",
    "\n",
    "ipsource_dict = {1: 'M', 2: 'R', 3: 'A', 4: 'X', 0: \"pad\"}\n",
    "SOURCES_NUM = len(ipsource_dict) + 1\n",
    "label_dict = {0: 'G', 1: 'R',2: 'Unknown'}\n",
    "class_names = [\"GREEN\", \"RED\"]\n",
    "\n",
    "DATA_PATH = '../data/'\n",
    "MODELS_PATH = '../models/'\n",
    "RESULTS_PATH = '../results/'\n",
    "\n",
    "path_prefix = RESULTS_PATH + MODEL_NAME\n",
    "\n",
    "if LOAD_TRAINING:\n",
    "    training = pd.read_pickle(\"../data/dataset_b_noisy_7_agents_training.pkl\") \n",
    "    print(len(training))\n",
    "test_comb = pd.read_pickle(\"../data/dataset_b_noisy_7_agents_test.pkl\") \n",
    "print(len(test_comb))"
   ]
  },
  {
   "cell_type": "code",
   "execution_count": 5,
   "metadata": {},
   "outputs": [
    {
     "data": {
      "text/html": [
       "<div>\n",
       "<style scoped>\n",
       "    .dataframe tbody tr th:only-of-type {\n",
       "        vertical-align: middle;\n",
       "    }\n",
       "\n",
       "    .dataframe tbody tr th {\n",
       "        vertical-align: top;\n",
       "    }\n",
       "\n",
       "    .dataframe thead th {\n",
       "        text-align: right;\n",
       "    }\n",
       "</style>\n",
       "<table border=\"1\" class=\"dataframe\">\n",
       "  <thead>\n",
       "    <tr style=\"text-align: right;\">\n",
       "      <th></th>\n",
       "      <th>srcAS</th>\n",
       "      <th>destAS</th>\n",
       "      <th>srcCC</th>\n",
       "      <th>destCC</th>\n",
       "      <th>num_hops</th>\n",
       "      <th>lat</th>\n",
       "      <th>long</th>\n",
       "      <th>IPsource</th>\n",
       "      <th>geoCC</th>\n",
       "      <th>ASN</th>\n",
       "      <th>vf</th>\n",
       "      <th>combined</th>\n",
       "      <th>geo</th>\n",
       "      <th>owner</th>\n",
       "    </tr>\n",
       "    <tr>\n",
       "      <th>trid</th>\n",
       "      <th></th>\n",
       "      <th></th>\n",
       "      <th></th>\n",
       "      <th></th>\n",
       "      <th></th>\n",
       "      <th></th>\n",
       "      <th></th>\n",
       "      <th></th>\n",
       "      <th></th>\n",
       "      <th></th>\n",
       "      <th></th>\n",
       "      <th></th>\n",
       "      <th></th>\n",
       "      <th></th>\n",
       "    </tr>\n",
       "  </thead>\n",
       "  <tbody>\n",
       "    <tr>\n",
       "      <th>4319757</th>\n",
       "      <td>8551</td>\n",
       "      <td>6147</td>\n",
       "      <td>IL</td>\n",
       "      <td>PE</td>\n",
       "      <td>12</td>\n",
       "      <td>[32.080878999999996, 32.080878999999996, 50.11...</td>\n",
       "      <td>[34.780571, 34.780571, 8.68417, 8.67185, 8.671...</td>\n",
       "      <td>[2, 2, 1, 1, 1, 1, 1, 1, 1, 3, 3, 3]</td>\n",
       "      <td>[IL, IL, DE, DE, DE, GB, GB, US, US, ES, ES, PE]</td>\n",
       "      <td>[8551, 8551, 8551, 8551, 3257, 3257, 3257, 129...</td>\n",
       "      <td>0</td>\n",
       "      <td>0</td>\n",
       "      <td>0</td>\n",
       "      <td>0</td>\n",
       "    </tr>\n",
       "    <tr>\n",
       "      <th>3971404</th>\n",
       "      <td>8551</td>\n",
       "      <td>9121</td>\n",
       "      <td>IL</td>\n",
       "      <td>TR</td>\n",
       "      <td>13</td>\n",
       "      <td>[32.080878999999996, 32.080878999999996, 32.08...</td>\n",
       "      <td>[34.780571, 34.780571, 34.780571, -0.125740000...</td>\n",
       "      <td>[2, 2, 2, 1, 1, 1, 1, 1, 1, 1, 1, 1, 3]</td>\n",
       "      <td>[IL, IL, IL, GB, GB, GB, GB, GB, NL, NL, NL, N...</td>\n",
       "      <td>[8551, 8551, 8551, 8551, 3257, 3257, 2914, 291...</td>\n",
       "      <td>0</td>\n",
       "      <td>0</td>\n",
       "      <td>0</td>\n",
       "      <td>0</td>\n",
       "    </tr>\n",
       "    <tr>\n",
       "      <th>4094951</th>\n",
       "      <td>8551</td>\n",
       "      <td>9583</td>\n",
       "      <td>IL</td>\n",
       "      <td>IN</td>\n",
       "      <td>8</td>\n",
       "      <td>[32.080878999999996, 32.080878999999996, 32.08...</td>\n",
       "      <td>[34.780571, 34.780571, 34.780571, -0.125740000...</td>\n",
       "      <td>[2, 2, 2, 1, 4, 4, 4, 4]</td>\n",
       "      <td>[IL, IL, IL, GB, nan, nan, nan, nan]</td>\n",
       "      <td>[8551, 8551, 8551, 9583, 0, 0, 0, 0]</td>\n",
       "      <td>0</td>\n",
       "      <td>0</td>\n",
       "      <td>0</td>\n",
       "      <td>0</td>\n",
       "    </tr>\n",
       "    <tr>\n",
       "      <th>1619804</th>\n",
       "      <td>20473</td>\n",
       "      <td>393396</td>\n",
       "      <td>US</td>\n",
       "      <td>US</td>\n",
       "      <td>8</td>\n",
       "      <td>[48.860001000000004, 48.860001000000004, 48.86...</td>\n",
       "      <td>[2.34444, 2.34444, 2.34444, 10.7487, 2.34444, ...</td>\n",
       "      <td>[1, 1, 1, 3, 1, 1, 1, 3]</td>\n",
       "      <td>[FR, FR, FR, NO, FR, FR, US, US]</td>\n",
       "      <td>[1299, 1299, 1299, 3356, 3356, 3356, 3549, 393...</td>\n",
       "      <td>0</td>\n",
       "      <td>0</td>\n",
       "      <td>0</td>\n",
       "      <td>0</td>\n",
       "    </tr>\n",
       "    <tr>\n",
       "      <th>1353363</th>\n",
       "      <td>14061</td>\n",
       "      <td>29465</td>\n",
       "      <td>US</td>\n",
       "      <td>NG</td>\n",
       "      <td>10</td>\n",
       "      <td>[50.115520000000004, 50.115520000000004, 50.11...</td>\n",
       "      <td>[8.68417, 8.68417, 8.67185, 8.67185, 2.34444, ...</td>\n",
       "      <td>[2, 1, 1, 1, 1, 1, 1, 1, 3, 3]</td>\n",
       "      <td>[DE, DE, DE, DE, FR, GB, GB, GB, NG, NG]</td>\n",
       "      <td>[14061, 14061, 1299, 1299, 1299, 1299, 1299, 1...</td>\n",
       "      <td>0</td>\n",
       "      <td>0</td>\n",
       "      <td>0</td>\n",
       "      <td>0</td>\n",
       "    </tr>\n",
       "  </tbody>\n",
       "</table>\n",
       "</div>"
      ],
      "text/plain": [
       "         srcAS  destAS srcCC destCC  num_hops  \\\n",
       "trid                                            \n",
       "4319757   8551    6147    IL     PE        12   \n",
       "3971404   8551    9121    IL     TR        13   \n",
       "4094951   8551    9583    IL     IN         8   \n",
       "1619804  20473  393396    US     US         8   \n",
       "1353363  14061   29465    US     NG        10   \n",
       "\n",
       "                                                       lat  \\\n",
       "trid                                                         \n",
       "4319757  [32.080878999999996, 32.080878999999996, 50.11...   \n",
       "3971404  [32.080878999999996, 32.080878999999996, 32.08...   \n",
       "4094951  [32.080878999999996, 32.080878999999996, 32.08...   \n",
       "1619804  [48.860001000000004, 48.860001000000004, 48.86...   \n",
       "1353363  [50.115520000000004, 50.115520000000004, 50.11...   \n",
       "\n",
       "                                                      long  \\\n",
       "trid                                                         \n",
       "4319757  [34.780571, 34.780571, 8.68417, 8.67185, 8.671...   \n",
       "3971404  [34.780571, 34.780571, 34.780571, -0.125740000...   \n",
       "4094951  [34.780571, 34.780571, 34.780571, -0.125740000...   \n",
       "1619804  [2.34444, 2.34444, 2.34444, 10.7487, 2.34444, ...   \n",
       "1353363  [8.68417, 8.68417, 8.67185, 8.67185, 2.34444, ...   \n",
       "\n",
       "                                        IPsource  \\\n",
       "trid                                               \n",
       "4319757     [2, 2, 1, 1, 1, 1, 1, 1, 1, 3, 3, 3]   \n",
       "3971404  [2, 2, 2, 1, 1, 1, 1, 1, 1, 1, 1, 1, 3]   \n",
       "4094951                 [2, 2, 2, 1, 4, 4, 4, 4]   \n",
       "1619804                 [1, 1, 1, 3, 1, 1, 1, 3]   \n",
       "1353363           [2, 1, 1, 1, 1, 1, 1, 1, 3, 3]   \n",
       "\n",
       "                                                     geoCC  \\\n",
       "trid                                                         \n",
       "4319757   [IL, IL, DE, DE, DE, GB, GB, US, US, ES, ES, PE]   \n",
       "3971404  [IL, IL, IL, GB, GB, GB, GB, GB, NL, NL, NL, N...   \n",
       "4094951               [IL, IL, IL, GB, nan, nan, nan, nan]   \n",
       "1619804                   [FR, FR, FR, NO, FR, FR, US, US]   \n",
       "1353363           [DE, DE, DE, DE, FR, GB, GB, GB, NG, NG]   \n",
       "\n",
       "                                                       ASN  vf  combined  geo  \\\n",
       "trid                                                                            \n",
       "4319757  [8551, 8551, 8551, 8551, 3257, 3257, 3257, 129...   0         0    0   \n",
       "3971404  [8551, 8551, 8551, 8551, 3257, 3257, 2914, 291...   0         0    0   \n",
       "4094951               [8551, 8551, 8551, 9583, 0, 0, 0, 0]   0         0    0   \n",
       "1619804  [1299, 1299, 1299, 3356, 3356, 3356, 3549, 393...   0         0    0   \n",
       "1353363  [14061, 14061, 1299, 1299, 1299, 1299, 1299, 1...   0         0    0   \n",
       "\n",
       "         owner  \n",
       "trid            \n",
       "4319757      0  \n",
       "3971404      0  \n",
       "4094951      0  \n",
       "1619804      0  \n",
       "1353363      0  "
      ]
     },
     "execution_count": 5,
     "metadata": {},
     "output_type": "execute_result"
    }
   ],
   "source": [
    "test_comb.head()"
   ]
  },
  {
   "cell_type": "code",
   "execution_count": 6,
   "metadata": {},
   "outputs": [],
   "source": [
    "if LOAD_TRAINING:\n",
    "    print(training[LABELS].value_counts())\n",
    "    print(training[LABELS].value_counts(normalize=True))"
   ]
  },
  {
   "cell_type": "code",
   "execution_count": 7,
   "metadata": {},
   "outputs": [
    {
     "name": "stdout",
     "output_type": "stream",
     "text": [
      "0    668035\n",
      "1     34348\n",
      "Name: combined, dtype: int64\n",
      "0    0.951098\n",
      "1    0.048902\n",
      "Name: combined, dtype: float64\n"
     ]
    }
   ],
   "source": [
    "print(test_comb[LABELS].value_counts())\n",
    "print(test_comb[LABELS].value_counts(normalize=True))"
   ]
  },
  {
   "cell_type": "code",
   "execution_count": 8,
   "metadata": {
    "ExecuteTime": {
     "end_time": "2020-03-23T10:51:32.858584Z",
     "start_time": "2020-03-23T10:51:32.664840Z"
    }
   },
   "outputs": [
    {
     "name": "stdout",
     "output_type": "stream",
     "text": [
      "40\n"
     ]
    }
   ],
   "source": [
    "max_len = max(len(raw) for raw in test_comb['lat'].values)\n",
    "max_len = max(max_len, 40)\n",
    "print(max_len)"
   ]
  },
  {
   "cell_type": "markdown",
   "metadata": {},
   "source": [
    "## Process data"
   ]
  },
  {
   "cell_type": "code",
   "execution_count": 9,
   "metadata": {
    "ExecuteTime": {
     "end_time": "2020-03-23T10:52:17.060898Z",
     "start_time": "2020-03-23T10:51:32.863826Z"
    }
   },
   "outputs": [
    {
     "name": "stderr",
     "output_type": "stream",
     "text": [
      "Using TensorFlow backend.\n",
      "C:\\Users\\tals\\AppData\\Roaming\\Python\\Python36\\site-packages\\tensorflow\\python\\framework\\dtypes.py:526: FutureWarning: Passing (type, 1) or '1type' as a synonym of type is deprecated; in a future version of numpy, it will be understood as (type, (1,)) / '(1,)type'.\n",
      "  _np_qint8 = np.dtype([(\"qint8\", np.int8, 1)])\n",
      "C:\\Users\\tals\\AppData\\Roaming\\Python\\Python36\\site-packages\\tensorflow\\python\\framework\\dtypes.py:527: FutureWarning: Passing (type, 1) or '1type' as a synonym of type is deprecated; in a future version of numpy, it will be understood as (type, (1,)) / '(1,)type'.\n",
      "  _np_quint8 = np.dtype([(\"quint8\", np.uint8, 1)])\n",
      "C:\\Users\\tals\\AppData\\Roaming\\Python\\Python36\\site-packages\\tensorflow\\python\\framework\\dtypes.py:528: FutureWarning: Passing (type, 1) or '1type' as a synonym of type is deprecated; in a future version of numpy, it will be understood as (type, (1,)) / '(1,)type'.\n",
      "  _np_qint16 = np.dtype([(\"qint16\", np.int16, 1)])\n",
      "C:\\Users\\tals\\AppData\\Roaming\\Python\\Python36\\site-packages\\tensorflow\\python\\framework\\dtypes.py:529: FutureWarning: Passing (type, 1) or '1type' as a synonym of type is deprecated; in a future version of numpy, it will be understood as (type, (1,)) / '(1,)type'.\n",
      "  _np_quint16 = np.dtype([(\"quint16\", np.uint16, 1)])\n",
      "C:\\Users\\tals\\AppData\\Roaming\\Python\\Python36\\site-packages\\tensorflow\\python\\framework\\dtypes.py:530: FutureWarning: Passing (type, 1) or '1type' as a synonym of type is deprecated; in a future version of numpy, it will be understood as (type, (1,)) / '(1,)type'.\n",
      "  _np_qint32 = np.dtype([(\"qint32\", np.int32, 1)])\n",
      "C:\\Users\\tals\\AppData\\Roaming\\Python\\Python36\\site-packages\\tensorflow\\python\\framework\\dtypes.py:535: FutureWarning: Passing (type, 1) or '1type' as a synonym of type is deprecated; in a future version of numpy, it will be understood as (type, (1,)) / '(1,)type'.\n",
      "  np_resource = np.dtype([(\"resource\", np.ubyte, 1)])\n"
     ]
    },
    {
     "name": "stdout",
     "output_type": "stream",
     "text": [
      "702383\n"
     ]
    }
   ],
   "source": [
    "from data_utils import *\n",
    "\n",
    "if LOAD_TRAINING:\n",
    "    training = generate_dataset_and_meta(training, data_type=DATA_TYPE, max_len=max_len)\n",
    "    print(len(training))\n",
    "\n",
    "test_comb = generate_dataset_and_meta(test_comb, data_type=DATA_TYPE, max_len=max_len)\n",
    "print(len(test_comb))"
   ]
  },
  {
   "cell_type": "code",
   "execution_count": 10,
   "metadata": {
    "ExecuteTime": {
     "end_time": "2020-03-23T10:52:27.438939Z",
     "start_time": "2020-03-23T10:52:27.405209Z"
    }
   },
   "outputs": [
    {
     "data": {
      "text/html": [
       "<div>\n",
       "<style scoped>\n",
       "    .dataframe tbody tr th:only-of-type {\n",
       "        vertical-align: middle;\n",
       "    }\n",
       "\n",
       "    .dataframe tbody tr th {\n",
       "        vertical-align: top;\n",
       "    }\n",
       "\n",
       "    .dataframe thead th {\n",
       "        text-align: right;\n",
       "    }\n",
       "</style>\n",
       "<table border=\"1\" class=\"dataframe\">\n",
       "  <thead>\n",
       "    <tr style=\"text-align: right;\">\n",
       "      <th></th>\n",
       "      <th>srcAS</th>\n",
       "      <th>destAS</th>\n",
       "      <th>srcCC</th>\n",
       "      <th>destCC</th>\n",
       "      <th>num_hops</th>\n",
       "      <th>geoCC</th>\n",
       "      <th>ASN</th>\n",
       "      <th>vf</th>\n",
       "      <th>combined</th>\n",
       "      <th>geo</th>\n",
       "      <th>owner</th>\n",
       "      <th>sources</th>\n",
       "      <th>lats_longs</th>\n",
       "    </tr>\n",
       "    <tr>\n",
       "      <th>trid</th>\n",
       "      <th></th>\n",
       "      <th></th>\n",
       "      <th></th>\n",
       "      <th></th>\n",
       "      <th></th>\n",
       "      <th></th>\n",
       "      <th></th>\n",
       "      <th></th>\n",
       "      <th></th>\n",
       "      <th></th>\n",
       "      <th></th>\n",
       "      <th></th>\n",
       "      <th></th>\n",
       "    </tr>\n",
       "  </thead>\n",
       "  <tbody>\n",
       "    <tr>\n",
       "      <th>4319757</th>\n",
       "      <td>8551</td>\n",
       "      <td>6147</td>\n",
       "      <td>IL</td>\n",
       "      <td>PE</td>\n",
       "      <td>12</td>\n",
       "      <td>[IL, IL, DE, DE, DE, GB, GB, US, US, ES, ES, PE]</td>\n",
       "      <td>[8551, 8551, 8551, 8551, 3257, 3257, 3257, 129...</td>\n",
       "      <td>0</td>\n",
       "      <td>0</td>\n",
       "      <td>0</td>\n",
       "      <td>0</td>\n",
       "      <td>[2, 2, 1, 1, 1, 1, 1, 1, 1, 3, 3, 3, 0, 0, 0, ...</td>\n",
       "      <td>[[0.3564542233943939, 0.19322539865970612], [0...</td>\n",
       "    </tr>\n",
       "    <tr>\n",
       "      <th>3971404</th>\n",
       "      <td>8551</td>\n",
       "      <td>9121</td>\n",
       "      <td>IL</td>\n",
       "      <td>TR</td>\n",
       "      <td>13</td>\n",
       "      <td>[IL, IL, IL, GB, GB, GB, GB, GB, NL, NL, NL, N...</td>\n",
       "      <td>[8551, 8551, 8551, 8551, 3257, 3257, 2914, 291...</td>\n",
       "      <td>0</td>\n",
       "      <td>0</td>\n",
       "      <td>0</td>\n",
       "      <td>0</td>\n",
       "      <td>[2, 2, 2, 1, 1, 1, 1, 1, 1, 1, 1, 1, 3, 0, 0, ...</td>\n",
       "      <td>[[0.3564542233943939, 0.19322539865970612], [0...</td>\n",
       "    </tr>\n",
       "    <tr>\n",
       "      <th>4094951</th>\n",
       "      <td>8551</td>\n",
       "      <td>9583</td>\n",
       "      <td>IL</td>\n",
       "      <td>IN</td>\n",
       "      <td>8</td>\n",
       "      <td>[IL, IL, IL, GB, nan, nan, nan, nan]</td>\n",
       "      <td>[8551, 8551, 8551, 9583, 0, 0, 0, 0]</td>\n",
       "      <td>0</td>\n",
       "      <td>0</td>\n",
       "      <td>0</td>\n",
       "      <td>0</td>\n",
       "      <td>[2, 2, 2, 1, 4, 4, 4, 4, 0, 0, 0, 0, 0, 0, 0, ...</td>\n",
       "      <td>[[0.3564542233943939, 0.19322539865970612], [0...</td>\n",
       "    </tr>\n",
       "    <tr>\n",
       "      <th>1619804</th>\n",
       "      <td>20473</td>\n",
       "      <td>393396</td>\n",
       "      <td>US</td>\n",
       "      <td>US</td>\n",
       "      <td>8</td>\n",
       "      <td>[FR, FR, FR, NO, FR, FR, US, US]</td>\n",
       "      <td>[1299, 1299, 1299, 3356, 3356, 3356, 3549, 393...</td>\n",
       "      <td>0</td>\n",
       "      <td>0</td>\n",
       "      <td>0</td>\n",
       "      <td>0</td>\n",
       "      <td>[1, 1, 1, 3, 1, 1, 1, 3, 0, 0, 0, 0, 0, 0, 0, ...</td>\n",
       "      <td>[[0.542888879776001, 0.013024666346609592], [0...</td>\n",
       "    </tr>\n",
       "    <tr>\n",
       "      <th>1353363</th>\n",
       "      <td>14061</td>\n",
       "      <td>29465</td>\n",
       "      <td>US</td>\n",
       "      <td>NG</td>\n",
       "      <td>10</td>\n",
       "      <td>[DE, DE, DE, DE, FR, GB, GB, GB, NG, NG]</td>\n",
       "      <td>[14061, 14061, 1299, 1299, 1299, 1299, 1299, 1...</td>\n",
       "      <td>0</td>\n",
       "      <td>0</td>\n",
       "      <td>0</td>\n",
       "      <td>0</td>\n",
       "      <td>[2, 1, 1, 1, 1, 1, 1, 1, 3, 3, 0, 0, 0, 0, 0, ...</td>\n",
       "      <td>[[0.556839108467102, 0.0482453890144825], [0.5...</td>\n",
       "    </tr>\n",
       "  </tbody>\n",
       "</table>\n",
       "</div>"
      ],
      "text/plain": [
       "         srcAS  destAS srcCC destCC  num_hops  \\\n",
       "trid                                            \n",
       "4319757   8551    6147    IL     PE        12   \n",
       "3971404   8551    9121    IL     TR        13   \n",
       "4094951   8551    9583    IL     IN         8   \n",
       "1619804  20473  393396    US     US         8   \n",
       "1353363  14061   29465    US     NG        10   \n",
       "\n",
       "                                                     geoCC  \\\n",
       "trid                                                         \n",
       "4319757   [IL, IL, DE, DE, DE, GB, GB, US, US, ES, ES, PE]   \n",
       "3971404  [IL, IL, IL, GB, GB, GB, GB, GB, NL, NL, NL, N...   \n",
       "4094951               [IL, IL, IL, GB, nan, nan, nan, nan]   \n",
       "1619804                   [FR, FR, FR, NO, FR, FR, US, US]   \n",
       "1353363           [DE, DE, DE, DE, FR, GB, GB, GB, NG, NG]   \n",
       "\n",
       "                                                       ASN  vf  combined  geo  \\\n",
       "trid                                                                            \n",
       "4319757  [8551, 8551, 8551, 8551, 3257, 3257, 3257, 129...   0         0    0   \n",
       "3971404  [8551, 8551, 8551, 8551, 3257, 3257, 2914, 291...   0         0    0   \n",
       "4094951               [8551, 8551, 8551, 9583, 0, 0, 0, 0]   0         0    0   \n",
       "1619804  [1299, 1299, 1299, 3356, 3356, 3356, 3549, 393...   0         0    0   \n",
       "1353363  [14061, 14061, 1299, 1299, 1299, 1299, 1299, 1...   0         0    0   \n",
       "\n",
       "         owner                                            sources  \\\n",
       "trid                                                                \n",
       "4319757      0  [2, 2, 1, 1, 1, 1, 1, 1, 1, 3, 3, 3, 0, 0, 0, ...   \n",
       "3971404      0  [2, 2, 2, 1, 1, 1, 1, 1, 1, 1, 1, 1, 3, 0, 0, ...   \n",
       "4094951      0  [2, 2, 2, 1, 4, 4, 4, 4, 0, 0, 0, 0, 0, 0, 0, ...   \n",
       "1619804      0  [1, 1, 1, 3, 1, 1, 1, 3, 0, 0, 0, 0, 0, 0, 0, ...   \n",
       "1353363      0  [2, 1, 1, 1, 1, 1, 1, 1, 3, 3, 0, 0, 0, 0, 0, ...   \n",
       "\n",
       "                                                lats_longs  \n",
       "trid                                                        \n",
       "4319757  [[0.3564542233943939, 0.19322539865970612], [0...  \n",
       "3971404  [[0.3564542233943939, 0.19322539865970612], [0...  \n",
       "4094951  [[0.3564542233943939, 0.19322539865970612], [0...  \n",
       "1619804  [[0.542888879776001, 0.013024666346609592], [0...  \n",
       "1353363  [[0.556839108467102, 0.0482453890144825], [0.5...  "
      ]
     },
     "execution_count": 10,
     "metadata": {},
     "output_type": "execute_result"
    }
   ],
   "source": [
    "test_comb.head()"
   ]
  },
  {
   "cell_type": "markdown",
   "metadata": {},
   "source": [
    "# Map Countries & Define Embedding Parameters"
   ]
  },
  {
   "cell_type": "code",
   "execution_count": 11,
   "metadata": {
    "ExecuteTime": {
     "end_time": "2020-03-23T10:52:33.308725Z",
     "start_time": "2020-03-23T10:52:27.478565Z"
    }
   },
   "outputs": [],
   "source": [
    "import pickle\n",
    "import os.path\n",
    "\n",
    "if DATA_TYPE == \"countries\":\n",
    "    country_idx = pickle.load(open(DATA_PATH + 'country_idx.pkl', 'rb'))\n",
    "    total_countries = len(country_idx)\n",
    "    print(total_countries)\n",
    "    embedding_vecor_length = 32\n",
    "else:\n",
    "    total_countries = None\n",
    "    country_idx = None\n",
    "    embedding_vecor_length = 32"
   ]
  },
  {
   "cell_type": "markdown",
   "metadata": {},
   "source": [
    "# Generate training and test sets"
   ]
  },
  {
   "cell_type": "code",
   "execution_count": 12,
   "metadata": {
    "ExecuteTime": {
     "end_time": "2020-03-23T10:52:36.121964Z",
     "start_time": "2020-03-23T10:52:35.988182Z"
    }
   },
   "outputs": [
    {
     "name": "stdout",
     "output_type": "stream",
     "text": [
      "(40, 2)\n"
     ]
    }
   ],
   "source": [
    "if DATA_TYPE == \"lats_longs\":\n",
    "    input_shape = np.array(test_comb[\"lats_longs\"].values[0]).shape\n",
    "else:\n",
    "    input_shape = np.array(test_comb[\"countries\"].values[0]).shape\n",
    "print(input_shape)"
   ]
  },
  {
   "cell_type": "markdown",
   "metadata": {},
   "source": [
    "## Create np arrays"
   ]
  },
  {
   "cell_type": "markdown",
   "metadata": {},
   "source": [
    "### Remove UNDECIDED by chosen label"
   ]
  },
  {
   "cell_type": "code",
   "execution_count": 13,
   "metadata": {
    "ExecuteTime": {
     "end_time": "2020-03-23T10:52:38.894848Z",
     "start_time": "2020-03-23T10:52:38.422639Z"
    }
   },
   "outputs": [
    {
     "name": "stdout",
     "output_type": "stream",
     "text": [
      "702383\n",
      "702383\n"
     ]
    }
   ],
   "source": [
    "print(len(test_comb))\n",
    "\n",
    "test = test_comb[test_comb[LABELS] < 2]\n",
    "print(len(test))\n",
    "\n",
    "if LOAD_TRAINING:\n",
    "    training = training[training[LABELS] < 2]\n",
    "    print(len(training))"
   ]
  },
  {
   "cell_type": "markdown",
   "metadata": {
    "ExecuteTime": {
     "end_time": "2019-08-09T07:03:22.365509Z",
     "start_time": "2019-08-09T07:03:22.363420Z"
    }
   },
   "source": [
    "### Generate np arrays for test_comb (evaluation on the 'label_comb'), training and test sets"
   ]
  },
  {
   "cell_type": "code",
   "execution_count": 14,
   "metadata": {},
   "outputs": [
    {
     "name": "stdout",
     "output_type": "stream",
     "text": [
      "(702383, 40, 2) (702383, 40) (702383,)\n"
     ]
    }
   ],
   "source": [
    "x_test_comb, u_test_comb, y_test_comb = generate_set_arrays(test_comb, max_len, DATA_TYPE, 'combined', country_idx)\n",
    "print(x_test_comb.shape, u_test_comb.shape, y_test_comb.shape)"
   ]
  },
  {
   "cell_type": "code",
   "execution_count": 15,
   "metadata": {},
   "outputs": [],
   "source": [
    "if LOAD_TRAINING:\n",
    "    x_training, u_training, y_training = generate_set_arrays(training, max_len, DATA_TYPE, LABELS, country_idx)\n",
    "    print(x_training.shape, u_training.shape, y_training.shape)"
   ]
  },
  {
   "cell_type": "code",
   "execution_count": 16,
   "metadata": {},
   "outputs": [
    {
     "name": "stdout",
     "output_type": "stream",
     "text": [
      "(702383, 40, 2) (702383, 40) (702383,)\n"
     ]
    }
   ],
   "source": [
    "x_test, u_test, y_test = generate_set_arrays(test, max_len, DATA_TYPE, LABELS, country_idx)\n",
    "print(x_test.shape, u_test.shape, y_test.shape)"
   ]
  },
  {
   "cell_type": "code",
   "execution_count": 17,
   "metadata": {
    "ExecuteTime": {
     "end_time": "2020-03-23T10:53:06.842150Z",
     "start_time": "2020-03-23T10:53:06.648190Z"
    }
   },
   "outputs": [
    {
     "name": "stdout",
     "output_type": "stream",
     "text": [
      "[0 1 2 3 4]\n"
     ]
    }
   ],
   "source": [
    "print(np.unique(u_test))"
   ]
  },
  {
   "cell_type": "markdown",
   "metadata": {},
   "source": [
    "# Load models"
   ]
  },
  {
   "cell_type": "code",
   "execution_count": 18,
   "metadata": {
    "ExecuteTime": {
     "end_time": "2020-03-23T10:53:07.898053Z",
     "start_time": "2020-03-23T10:53:07.316478Z"
    },
    "scrolled": false
   },
   "outputs": [
    {
     "name": "stdout",
     "output_type": "stream",
     "text": [
      "WARNING:tensorflow:From C:\\Users\\tals\\AppData\\Roaming\\Python\\Python36\\site-packages\\tensorflow\\python\\framework\\op_def_library.py:263: colocate_with (from tensorflow.python.framework.ops) is deprecated and will be removed in a future version.\n",
      "Instructions for updating:\n",
      "Colocations handled automatically by placer.\n",
      "Successfully loaded SDPA model from disk\n",
      "Successfully loaded SASA model from disk\n",
      "Successfully loaded SDPA_QS_KS model from disk\n"
     ]
    }
   ],
   "source": [
    "from attention_models import generate_model\n",
    "\n",
    "# def load_model(attention_name):\n",
    "#     model_name = DATA_TYPE + '_' + LABELS + '_classification_' + attention_name + '_SimpleNet'\n",
    "#     with open(MODELS_PATH + model_name + '.json', 'r') as f:\n",
    "#         loaded_model =  model_from_json(f.read())\n",
    "#     loaded_model.load_weights(MODELS_PATH + model_name + '_acc.hdf5')\n",
    "#     print(\"Successfully loaded\", attention_name, \"model from disk\")\n",
    "#     return loaded_model\n",
    "\n",
    "def load_model(ATTENTION_NAME):\n",
    "    if ATTENTION_NAME == \"SDPA\":\n",
    "        USE_SOURCES = False\n",
    "    else:\n",
    "        USE_SOURCES = True\n",
    "        \n",
    "    model = generate_model(input_shape, ATTENTION_NAME, USE_SOURCES, USE_EMBEDDING, num_categories=total_countries,\n",
    "                       embedding_vecor_length=embedding_vecor_length, attention_first=ATTENTION_FIRST,\n",
    "                       blstm=BLSTM, no_lstm=NO_LSTM)\n",
    "    model_name = DATA_TYPE + '_' + LABELS + '_classification_' + ATTENTION_NAME + '_SimpleNet'\n",
    "    model.load_weights(MODELS_PATH + model_name + '_acc.hdf5')\n",
    "    print(\"Successfully loaded\", ATTENTION_NAME, \"model from disk\")\n",
    "    return model\n",
    "\n",
    "\n",
    "if DATA_TYPE == \"lats_longs\":\n",
    "    USE_EMBEDDING = False\n",
    "else:\n",
    "    USE_EMBEDDING = True\n",
    "\n",
    "ATTENTION_FIRST = True\n",
    "BLSTM = True\n",
    "NO_LSTM = False\n",
    "\n",
    "model_sdpa = load_model('SDPA')\n",
    "model_sasa = load_model('SASA')\n",
    "model_sdpa_qs_ks = load_model('SDPA_QS_KS')"
   ]
  },
  {
   "cell_type": "markdown",
   "metadata": {},
   "source": [
    "# Evaluation"
   ]
  },
  {
   "cell_type": "markdown",
   "metadata": {},
   "source": [
    "## Evaluate accuracy over the test set"
   ]
  },
  {
   "cell_type": "code",
   "execution_count": 19,
   "metadata": {
    "ExecuteTime": {
     "end_time": "2020-03-23T12:32:45.987345Z",
     "start_time": "2020-03-23T12:31:44.683520Z"
    }
   },
   "outputs": [
    {
     "name": "stdout",
     "output_type": "stream",
     "text": [
      "702383/702383 [==============================] - 252s 359us/step\n",
      "702383 702383\n",
      "702383/702383 [==============================] - 260s 370us/step\n",
      "702383 702383\n",
      "702383/702383 [==============================] - 244s 347us/step\n",
      "702383 702383\n"
     ]
    }
   ],
   "source": [
    "from model_utils import *\n",
    "val_batch_size = 1024\n",
    "\n",
    "y_test_prediction_sdpa, y_test_prob_sdpa = get_model_pred_prob(model_sdpa, x_test, u_test, val_batch_size, False)\n",
    "print(len(y_test_prediction_sdpa), len(y_test))\n",
    "\n",
    "y_test_prediction_sasa, y_test_prob_sasa = get_model_pred_prob(model_sasa, x_test, u_test, val_batch_size, True)\n",
    "print(len(y_test_prediction_sasa), len(y_test))\n",
    "\n",
    "y_test_prediction_sdpa_qs_ks, y_test_prob_sdpa_qs_ks = get_model_pred_prob(model_sdpa_qs_ks, x_test, u_test, val_batch_size, True)\n",
    "print(len(y_test_prediction_sdpa_qs_ks), len(y_test))"
   ]
  },
  {
   "cell_type": "code",
   "execution_count": 20,
   "metadata": {},
   "outputs": [
    {
     "name": "stdout",
     "output_type": "stream",
     "text": [
      "### Evaluation metrics for SDPA : ###\n",
      "accuracy_score for SDPA 0.8728457266192376\n",
      "FA for SDPA 0.12331539515145162\n",
      "Detection rate i.e. recall_score for SDPA 0.7981833003377198\n",
      "AUC for SDPA 0.9164213038333322\n",
      "TPR@FPR=0.001 for SDPA (0.0009984506799793425, 0.17610923488994992)\n",
      "TPR@FPR=0.01 for SDPA (0.009996482220242952, 0.48410387795504833)\n",
      "TPR@FPR=0.1 for SDPA (0.09999925153622191, 0.7691277512518924)\n",
      "### Evaluation metrics for SASA : ###\n",
      "accuracy_score for SASA 0.8911434359886273\n",
      "FA for SASA 0.10621748860463898\n",
      "Detection rate i.e. recall_score for SASA 0.8398160009316409\n",
      "AUC for SASA 0.9395834115634294\n",
      "TPR@FPR=0.001 for SASA (0.0009984506799793425, 0.22758239198788868)\n",
      "TPR@FPR=0.01 for SASA (0.009999476075355333, 0.5706300221264703)\n",
      "TPR@FPR=0.1 for SASA (0.09999775460866571, 0.83268312565506)\n",
      "### Evaluation metrics for SDPA_QS_KS : ###\n",
      "accuracy_score for SDPA_QS_KS 0.8536439520888176\n",
      "The history saving thread hit an unexpected error (OperationalError('database is locked',)).History will not be written to the database.\n",
      "FA for SDPA_QS_KS 0.14410771890694352\n",
      "Detection rate i.e. recall_score for SDPA_QS_KS 0.8099161523232794\n",
      "AUC for SDPA_QS_KS 0.9153759427698603\n",
      "TPR@FPR=0.001 for SDPA_QS_KS (0.0009999476075355333, 0.18766740421567485)\n",
      "TPR@FPR=0.01 for SDPA_QS_KS (0.009999476075355333, 0.45632933504134154)\n",
      "TPR@FPR=0.1 for SDPA_QS_KS (0.09999176689844096, 0.759374636077792)\n"
     ]
    }
   ],
   "source": [
    "from evaluation_utils import print_evaluation_metrics, plot_roc_curve_multiple\n",
    "\n",
    "ATTENTION_NAME = \"SDPA\"\n",
    "print(\"### Evaluation metrics for\", ATTENTION_NAME, \": ###\")\n",
    "print_evaluation_metrics(y_test, y_test_prediction_sdpa, y_test_prob_sdpa, ATTENTION_NAME)\n",
    "\n",
    "ATTENTION_NAME = \"SASA\"\n",
    "print(\"### Evaluation metrics for\", ATTENTION_NAME, \": ###\")\n",
    "print_evaluation_metrics(y_test, y_test_prediction_sasa, y_test_prob_sasa, ATTENTION_NAME)\n",
    "\n",
    "ATTENTION_NAME = \"SDPA_QS_KS\"\n",
    "print(\"### Evaluation metrics for\", ATTENTION_NAME, \": ###\")\n",
    "print_evaluation_metrics(y_test, y_test_prediction_sdpa_qs_ks, y_test_prob_sdpa_qs_ks, ATTENTION_NAME)"
   ]
  },
  {
   "cell_type": "code",
   "execution_count": 21,
   "metadata": {},
   "outputs": [
    {
     "data": {
      "image/png": "[encoded data removed]",
      "text/plain": [
       "<Figure size 432x288 with 1 Axes>"
      ]
     },
     "metadata": {},
     "output_type": "display_data"
    }
   ],
   "source": [
    "plot_roc_curve_multiple(y_test, [y_test_prob_sdpa, y_test_prob_sasa, y_test_prob_sdpa_qs_ks], path_prefix,\n",
    "                        [\"SDPA\", \"SASA\", \"SDPA_QS_KS\"], max_fp=0.1)"
   ]
  },
  {
   "cell_type": "markdown",
   "metadata": {},
   "source": [
    "### Over test_comb - based on 'combined' labels"
   ]
  },
  {
   "cell_type": "code",
   "execution_count": 22,
   "metadata": {},
   "outputs": [
    {
     "name": "stdout",
     "output_type": "stream",
     "text": [
      "702383/702383 [==============================] - 239s 340us/step\n",
      "702383 702383\n",
      "702383/702383 [==============================] - 252s 358us/step\n",
      "702383 702383\n",
      "702383/702383 [==============================] - 246s 350us/step\n",
      "702383 702383\n"
     ]
    }
   ],
   "source": [
    "y_test_comb_prediction_sdpa, y_test_comb_prob_sdpa = get_model_pred_prob(model_sdpa, x_test_comb, u_test_comb, val_batch_size, False)\n",
    "print(len(y_test_comb_prediction_sdpa), len(y_test_comb))\n",
    "\n",
    "y_test_comb_prediction_sasa, y_test_comb_prob_sasa = get_model_pred_prob(model_sasa, x_test_comb, u_test_comb, val_batch_size, True)\n",
    "print(len(y_test_comb_prediction_sasa), len(y_test_comb))\n",
    "\n",
    "y_test_comb_prediction_sdpa_qs_ks, y_test_comb_prob_sdpa_qs_ks = get_model_pred_prob(model_sdpa_qs_ks, x_test_comb, u_test_comb, val_batch_size, True)\n",
    "print(len(y_test_comb_prediction_sdpa_qs_ks), len(y_test_comb))"
   ]
  },
  {
   "cell_type": "code",
   "execution_count": 23,
   "metadata": {},
   "outputs": [
    {
     "name": "stdout",
     "output_type": "stream",
     "text": [
      "### Evaluation metrics for SDPA : ###\n",
      "accuracy_score for SDPA 0.8728457266192376\n",
      "FA for SDPA 0.12331539515145162\n",
      "Detection rate i.e. recall_score for SDPA 0.7981833003377198\n",
      "AUC for SDPA 0.9164213038333322\n",
      "TPR@FPR=0.001 for SDPA (0.0009984506799793425, 0.17610923488994992)\n",
      "TPR@FPR=0.01 for SDPA (0.009996482220242952, 0.48410387795504833)\n",
      "TPR@FPR=0.1 for SDPA (0.09999925153622191, 0.7691277512518924)\n",
      "### Evaluation metrics for SASA : ###\n",
      "accuracy_score for SASA 0.8911434359886273\n",
      "FA for SASA 0.10621748860463898\n",
      "Detection rate i.e. recall_score for SASA 0.8398160009316409\n",
      "AUC for SASA 0.9395834115634294\n",
      "TPR@FPR=0.001 for SASA (0.0009984506799793425, 0.22758239198788868)\n",
      "TPR@FPR=0.01 for SASA (0.009999476075355333, 0.5706300221264703)\n",
      "TPR@FPR=0.1 for SASA (0.09999775460866571, 0.83268312565506)\n",
      "### Evaluation metrics for SDPA_QS_KS : ###\n",
      "accuracy_score for SDPA_QS_KS 0.8536439520888176\n",
      "FA for SDPA_QS_KS 0.14410771890694352\n",
      "Detection rate i.e. recall_score for SDPA_QS_KS 0.8099161523232794\n",
      "AUC for SDPA_QS_KS 0.9153759427698603\n",
      "TPR@FPR=0.001 for SDPA_QS_KS (0.0009999476075355333, 0.18766740421567485)\n",
      "TPR@FPR=0.01 for SDPA_QS_KS (0.009999476075355333, 0.45632933504134154)\n",
      "TPR@FPR=0.1 for SDPA_QS_KS (0.09999176689844096, 0.759374636077792)\n"
     ]
    }
   ],
   "source": [
    "ATTENTION_NAME = \"SDPA\"\n",
    "print(\"### Evaluation metrics for\", ATTENTION_NAME, \": ###\")\n",
    "print_evaluation_metrics(y_test_comb, y_test_comb_prediction_sdpa, y_test_comb_prob_sdpa, ATTENTION_NAME)\n",
    "\n",
    "ATTENTION_NAME = \"SASA\"\n",
    "print(\"### Evaluation metrics for\", ATTENTION_NAME, \": ###\")\n",
    "print_evaluation_metrics(y_test_comb, y_test_comb_prediction_sasa, y_test_comb_prob_sasa, ATTENTION_NAME)\n",
    "\n",
    "ATTENTION_NAME = \"SDPA_QS_KS\"\n",
    "print(\"### Evaluation metrics for\", ATTENTION_NAME, \": ###\")\n",
    "print_evaluation_metrics(y_test_comb, y_test_comb_prediction_sdpa_qs_ks, y_test_comb_prob_sdpa_qs_ks, ATTENTION_NAME)"
   ]
  },
  {
   "cell_type": "code",
   "execution_count": 24,
   "metadata": {},
   "outputs": [
    {
     "data": {
      "image/png": "[encoded data removed]",
      "text/plain": [
       "<Figure size 432x288 with 1 Axes>"
      ]
     },
     "metadata": {},
     "output_type": "display_data"
    }
   ],
   "source": [
    "plot_roc_curve_multiple(y_test_comb, [y_test_comb_prob_sdpa, y_test_comb_prob_sasa, y_test_comb_prob_sdpa_qs_ks], path_prefix + '_comb',\n",
    "                        [\"SDPA\", \"SASA\", \"SDPA_QS_KS\"], max_fp=0.1)"
   ]
  }
 ],
 "metadata": {
  "kernelspec": {
   "display_name": "research",
   "language": "python",
   "name": "research"
  },
  "language_info": {
   "codemirror_mode": {
    "name": "ipython",
    "version": 3
   },
   "file_extension": ".py",
   "mimetype": "text/x-python",
   "name": "python",
   "nbconvert_exporter": "python",
   "pygments_lexer": "ipython3",
   "version": "3.6.5"
  },
  "toc": {
   "base_numbering": 1,
   "nav_menu": {},
   "number_sections": true,
   "sideBar": true,
   "skip_h1_title": false,
   "title_cell": "Table of Contents",
   "title_sidebar": "Contents",
   "toc_cell": false,
   "toc_position": {},
   "toc_section_display": true,
   "toc_window_display": true
  },
  "varInspector": {
   "cols": {
    "lenName": 16,
    "lenType": 16,
    "lenVar": 40
   },
   "kernels_config": {
    "python": {
     "delete_cmd_postfix": "",
     "delete_cmd_prefix": "del ",
     "library": "var_list.py",
     "varRefreshCmd": "print(var_dic_list())"
    },
    "r": {
     "delete_cmd_postfix": ") ",
     "delete_cmd_prefix": "rm(",
     "library": "var_list.r",
     "varRefreshCmd": "cat(var_dic_list()) "
    }
   },
   "position": {
    "height": "413px",
    "left": "1165px",
    "right": "20px",
    "top": "87px",
    "width": "350px"
   },
   "types_to_exclude": [
    "module",
    "function",
    "builtin_function_or_method",
    "instance",
    "_Feature"
   ],
   "window_display": false
  }
 },
 "nbformat": 4,
 "nbformat_minor": 4
}
