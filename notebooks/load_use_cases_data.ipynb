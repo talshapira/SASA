{
 "cells": [
  {
   "cell_type": "code",
   "execution_count": 1,
   "metadata": {
    "ExecuteTime": {
     "end_time": "2020-07-15T15:53:07.801898Z",
     "start_time": "2020-07-15T15:53:07.799028Z"
    },
    "collapsed": true
   },
   "outputs": [],
   "source": [
    "ipsource_dict = {1: 'M', 2: 'R', 3: 'A', 4: 'X'}\n",
    "label_dict = {0: 'G', 1: 'R',2: 'Undefined'}"
   ]
  },
  {
   "cell_type": "code",
   "execution_count": 2,
   "metadata": {
    "scrolled": false
   },
   "outputs": [
    {
     "data": {
      "text/html": [
       "<div>\n",
       "<style scoped>\n",
       "    .dataframe tbody tr th:only-of-type {\n",
       "        vertical-align: middle;\n",
       "    }\n",
       "\n",
       "    .dataframe tbody tr th {\n",
       "        vertical-align: top;\n",
       "    }\n",
       "\n",
       "    .dataframe thead th {\n",
       "        text-align: right;\n",
       "    }\n",
       "</style>\n",
       "<table border=\"1\" class=\"dataframe\">\n",
       "  <thead>\n",
       "    <tr style=\"text-align: right;\">\n",
       "      <th></th>\n",
       "      <th>srcAS</th>\n",
       "      <th>destAS</th>\n",
       "      <th>srcCC</th>\n",
       "      <th>destCC</th>\n",
       "      <th>num_hops</th>\n",
       "      <th>lat</th>\n",
       "      <th>long</th>\n",
       "      <th>IPsource</th>\n",
       "      <th>geoCC</th>\n",
       "      <th>ASN</th>\n",
       "    </tr>\n",
       "    <tr>\n",
       "      <th>trid</th>\n",
       "      <th></th>\n",
       "      <th></th>\n",
       "      <th></th>\n",
       "      <th></th>\n",
       "      <th></th>\n",
       "      <th></th>\n",
       "      <th></th>\n",
       "      <th></th>\n",
       "      <th></th>\n",
       "      <th></th>\n",
       "    </tr>\n",
       "  </thead>\n",
       "  <tbody>\n",
       "    <tr>\n",
       "      <th>0</th>\n",
       "      <td>32780</td>\n",
       "      <td>4657</td>\n",
       "      <td>US</td>\n",
       "      <td>SG</td>\n",
       "      <td>19</td>\n",
       "      <td>[40.71427, 40.71427, 40.71427, 40.71427, 4.609...</td>\n",
       "      <td>[-74.00596999999999, -74.00596999999999, -74.0...</td>\n",
       "      <td>[1, 1, 1, 1, 1, 3, 1, 1, 1, 1, 1, 2, 2, 2, 1, ...</td>\n",
       "      <td>[US, US, US, US, CO, CO, US, US, US, SG, SG, S...</td>\n",
       "      <td>[32780, 32780, 6461, 6461, 262589, 262589, 645...</td>\n",
       "    </tr>\n",
       "    <tr>\n",
       "      <th>1</th>\n",
       "      <td>42708</td>\n",
       "      <td>30917</td>\n",
       "      <td>SE</td>\n",
       "      <td>HU</td>\n",
       "      <td>14</td>\n",
       "      <td>[59.33258000000001, 59.33258000000001, 59.5, 5...</td>\n",
       "      <td>[18.0649, 18.0649, 18.0, 10.01534, 10.01534, 8...</td>\n",
       "      <td>[1, 1, 1, 1, 1, 3, 3, 3, 3, 1, 1, 1, 2, 2]</td>\n",
       "      <td>[SE, SE, SE, DE, DE, DE, DE, DE, HU, HU, HU, H...</td>\n",
       "      <td>[42708, 1299, 1299, 1299, 1299, 3320, 3320, 33...</td>\n",
       "    </tr>\n",
       "    <tr>\n",
       "      <th>2</th>\n",
       "      <td>3257</td>\n",
       "      <td>5511</td>\n",
       "      <td>US</td>\n",
       "      <td>FR</td>\n",
       "      <td>7</td>\n",
       "      <td>[47.606199999999994, 22.28552, 22.28552, 22.28...</td>\n",
       "      <td>[-122.33200000000001, 114.15768999999997, 114....</td>\n",
       "      <td>[1, 1, 1, 1, 2, 1, 1]</td>\n",
       "      <td>[US, HK, HK, HK, FR, FR, FR]</td>\n",
       "      <td>[3257, 3257, 5511, 5511, 5511, 5511, 5511]</td>\n",
       "    </tr>\n",
       "    <tr>\n",
       "      <th>3</th>\n",
       "      <td>46562</td>\n",
       "      <td>8220</td>\n",
       "      <td>US</td>\n",
       "      <td>IE</td>\n",
       "      <td>17</td>\n",
       "      <td>[34.0522, 34.0522, 34.0522, 34.0522, 29.424120...</td>\n",
       "      <td>[-118.244, -118.244, -118.244, -118.244, -98.4...</td>\n",
       "      <td>[1, 1, 1, 1, 1, 1, 1, 1, 1, 1, 1, 1, 1, 3, 1, ...</td>\n",
       "      <td>[US, US, US, US, US, US, US, US, US, US, US, S...</td>\n",
       "      <td>[46562, 46562, 174, 174, 174, 174, 174, 174, 1...</td>\n",
       "    </tr>\n",
       "  </tbody>\n",
       "</table>\n",
       "</div>"
      ],
      "text/plain": [
       "      srcAS  destAS srcCC destCC  num_hops  \\\n",
       "trid                                         \n",
       "0     32780    4657    US     SG        19   \n",
       "1     42708   30917    SE     HU        14   \n",
       "2      3257    5511    US     FR         7   \n",
       "3     46562    8220    US     IE        17   \n",
       "\n",
       "                                                    lat  \\\n",
       "trid                                                      \n",
       "0     [40.71427, 40.71427, 40.71427, 40.71427, 4.609...   \n",
       "1     [59.33258000000001, 59.33258000000001, 59.5, 5...   \n",
       "2     [47.606199999999994, 22.28552, 22.28552, 22.28...   \n",
       "3     [34.0522, 34.0522, 34.0522, 34.0522, 29.424120...   \n",
       "\n",
       "                                                   long  \\\n",
       "trid                                                      \n",
       "0     [-74.00596999999999, -74.00596999999999, -74.0...   \n",
       "1     [18.0649, 18.0649, 18.0, 10.01534, 10.01534, 8...   \n",
       "2     [-122.33200000000001, 114.15768999999997, 114....   \n",
       "3     [-118.244, -118.244, -118.244, -118.244, -98.4...   \n",
       "\n",
       "                                               IPsource  \\\n",
       "trid                                                      \n",
       "0     [1, 1, 1, 1, 1, 3, 1, 1, 1, 1, 1, 2, 2, 2, 1, ...   \n",
       "1            [1, 1, 1, 1, 1, 3, 3, 3, 3, 1, 1, 1, 2, 2]   \n",
       "2                                 [1, 1, 1, 1, 2, 1, 1]   \n",
       "3     [1, 1, 1, 1, 1, 1, 1, 1, 1, 1, 1, 1, 1, 3, 1, ...   \n",
       "\n",
       "                                                  geoCC  \\\n",
       "trid                                                      \n",
       "0     [US, US, US, US, CO, CO, US, US, US, SG, SG, S...   \n",
       "1     [SE, SE, SE, DE, DE, DE, DE, DE, HU, HU, HU, H...   \n",
       "2                          [US, HK, HK, HK, FR, FR, FR]   \n",
       "3     [US, US, US, US, US, US, US, US, US, US, US, S...   \n",
       "\n",
       "                                                    ASN  \n",
       "trid                                                     \n",
       "0     [32780, 32780, 6461, 6461, 262589, 262589, 645...  \n",
       "1     [42708, 1299, 1299, 1299, 1299, 3320, 3320, 33...  \n",
       "2            [3257, 3257, 5511, 5511, 5511, 5511, 5511]  \n",
       "3     [46562, 46562, 174, 174, 174, 174, 174, 174, 1...  "
      ]
     },
     "execution_count": 2,
     "metadata": {},
     "output_type": "execute_result"
    }
   ],
   "source": [
    "import pandas as pd\n",
    "\n",
    "data_agg = pd.read_pickle(\"../data/use_cases.pkl\")\n",
    "data_agg"
   ]
  }
 ],
 "metadata": {
  "kernelspec": {
   "display_name": "Python 3",
   "language": "python",
   "name": "python3"
  },
  "language_info": {
   "codemirror_mode": {
    "name": "ipython",
    "version": 3
   },
   "file_extension": ".py",
   "mimetype": "text/x-python",
   "name": "python",
   "nbconvert_exporter": "python",
   "pygments_lexer": "ipython3",
   "version": "3.6.6"
  },
  "toc": {
   "base_numbering": 1,
   "nav_menu": {},
   "number_sections": true,
   "sideBar": true,
   "skip_h1_title": false,
   "title_cell": "Table of Contents",
   "title_sidebar": "Contents",
   "toc_cell": false,
   "toc_position": {},
   "toc_section_display": true,
   "toc_window_display": false
  },
  "varInspector": {
   "cols": {
    "lenName": 16,
    "lenType": 16,
    "lenVar": 40
   },
   "kernels_config": {
    "python": {
     "delete_cmd_postfix": "",
     "delete_cmd_prefix": "del ",
     "library": "var_list.py",
     "varRefreshCmd": "print(var_dic_list())"
    },
    "r": {
     "delete_cmd_postfix": ") ",
     "delete_cmd_prefix": "rm(",
     "library": "var_list.r",
     "varRefreshCmd": "cat(var_dic_list()) "
    }
   },
   "types_to_exclude": [
    "module",
    "function",
    "builtin_function_or_method",
    "instance",
    "_Feature"
   ],
   "window_display": false
  }
 },
 "nbformat": 4,
 "nbformat_minor": 4
}
